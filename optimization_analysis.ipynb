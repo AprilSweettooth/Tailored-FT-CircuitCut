{
 "cells": [
  {
   "cell_type": "code",
   "execution_count": 1,
   "metadata": {},
   "outputs": [],
   "source": [
    "import numpy as np\n",
    "import matplotlib.pyplot as plt\n",
    "from gate_estimation.resource_analysis import *\n",
    "from gate_estimation.optimization_utils import *\n",
    "from benchmark_utils import *\n",
    "from azure.quantum.target.microsoft import ErrorBudgetPartition"
   ]
  },
  {
   "cell_type": "code",
   "execution_count": 2,
   "metadata": {},
   "outputs": [
    {
     "name": "stdout",
     "output_type": "stream",
     "text": [
      "Found solution using 100 cuts with a sampling overhead of 9.712482128775505e+17 and classical runtime 971.2482128775505.\n",
      "Lowest cost solution found: False.\n"
     ]
    }
   ],
   "source": [
    "# from Shor_Sequential_QFT import *\n",
    "# shor = shor_factoring(21)\n",
    "from qiskit_addon_cutting.automated_cut_finding import (\n",
    "    find_cuts,\n",
    "    OptimizationParameters,\n",
    "    DeviceConstraints,\n",
    ")\n",
    "circ = build_lattice_hamiltonian(num_spins=10**2, Dimension=(10,10), model='Ising')\n",
    "# Specify settings for the cut-finding optimizer\n",
    "optimization_settings = OptimizationParameters(seed=111)\n",
    "\n",
    "# Specify the size of the QPUs available\n",
    "device_constraints = DeviceConstraints(qubits_per_subcircuit=50)\n",
    "\n",
    "cut_circuits, metadata = find_cuts(circ, optimization_settings, device_constraints)\n",
    "print(\n",
    "    f'Found solution using {len(metadata[\"cuts\"])} cuts with a sampling '\n",
    "    f'overhead of {metadata[\"sampling_overhead\"]} and classical runtime {metadata[\"sampling_overhead\"]/10**15}.\\n'\n",
    "    f'Lowest cost solution found: {metadata[\"minimum_reached\"]}.'\n",
    ")"
   ]
  },
  {
   "cell_type": "code",
   "execution_count": 2,
   "metadata": {},
   "outputs": [],
   "source": [
    "circuit = build_lattice_hamiltonian(num_spins=10**2, Dimension=(10,10), model='Ising')\n",
    "# circuit.draw('mpl', scale=0.5)"
   ]
  },
  {
   "cell_type": "code",
   "execution_count": 4,
   "metadata": {},
   "outputs": [
    {
     "data": {
      "text/plain": [
       "365"
      ]
     },
     "execution_count": 4,
     "metadata": {},
     "output_type": "execute_result"
    }
   ],
   "source": [
    "circuit.depth()"
   ]
  },
  {
   "cell_type": "code",
   "execution_count": 3,
   "metadata": {},
   "outputs": [
    {
     "name": "stdout",
     "output_type": "stream",
     "text": [
      "Found solution using 100 cuts with a sampling overhead of 9.712482128775505e+17 and classical runtime 971.2482128775505.\n",
      "Lowest cost solution found: False.\n"
     ]
    }
   ],
   "source": [
    "from qiskit_addon_cutting.automated_cut_finding import (\n",
    "    find_cuts,\n",
    "    OptimizationParameters,\n",
    "    DeviceConstraints,\n",
    ")\n",
    "\n",
    "# Specify settings for the cut-finding optimizer\n",
    "optimization_settings = OptimizationParameters(seed=111)\n",
    "\n",
    "# Specify the size of the QPUs available\n",
    "device_constraints = DeviceConstraints(qubits_per_subcircuit=80)\n",
    "\n",
    "cut_circuit, metadata = find_cuts(circuit, optimization_settings, device_constraints)\n",
    "print(\n",
    "    f'Found solution using {len(metadata[\"cuts\"])} cuts with a sampling '\n",
    "    f'overhead of {metadata[\"sampling_overhead\"]} and classical runtime {metadata[\"sampling_overhead\"]/10**15}.\\n'\n",
    "    f'Lowest cost solution found: {metadata[\"minimum_reached\"]}.'\n",
    ")\n",
    "# for cut in metadata[\"cuts\"]:\n",
    "#     print(f\"{cut[0]} at circuit instruction index {cut[1]}\")\n",
    "# cut_circuit.draw(\"mpl\", scale=0.8, fold=-1)"
   ]
  },
  {
   "cell_type": "code",
   "execution_count": 3,
   "metadata": {},
   "outputs": [],
   "source": [
    "from qiskit_addon_cutting import cut_wires,partition_problem\n",
    "qc_w_ancilla = cut_wires(cut_circuits)\n",
    "partitioned_problem = partition_problem(circuit=qc_w_ancilla)\n",
    "subcircuit= partitioned_problem.subcircuits\n",
    "subcircuits = [cuts_filter(s) for s in subcircuit.values()]\n",
    "# subcircuits[0].draw(\"mpl\", style=\"iqp\", scale=0.5)"
   ]
  },
  {
   "cell_type": "code",
   "execution_count": 7,
   "metadata": {},
   "outputs": [],
   "source": [
    "# circuit.count_ops()"
   ]
  },
  {
   "cell_type": "code",
   "execution_count": 5,
   "metadata": {},
   "outputs": [
    {
     "data": {
      "application/javascript": "// Copyright (c) Microsoft Corporation.\n// Licensed under the MIT License.\n\n// This file provides CodeMirror syntax highlighting for Q# magic cells\n// in classic Jupyter Notebooks. It does nothing in other (Jupyter Notebook 7,\n// VS Code, Azure Notebooks, etc.) environments.\n\n// Detect the prerequisites and do nothing if they don't exist.\nif (window.require && window.CodeMirror && window.Jupyter) {\n  // The simple mode plugin for CodeMirror is not loaded by default, so require it.\n  window.require([\"codemirror/addon/mode/simple\"], function defineMode() {\n    let rules = [\n      {\n        token: \"comment\",\n        regex: /(\\/\\/).*/,\n        beginWord: false,\n      },\n      {\n        token: \"string\",\n        regex: String.raw`^\\\"(?:[^\\\"\\\\]|\\\\[\\s\\S])*(?:\\\"|$)`,\n        beginWord: false,\n      },\n      {\n        token: \"keyword\",\n        regex: String.raw`(namespace|open|as|operation|function|body|adjoint|newtype|controlled|internal)\\b`,\n        beginWord: true,\n      },\n      {\n        token: \"keyword\",\n        regex: String.raw`(if|elif|else|repeat|until|fixup|for|in|return|fail|within|apply)\\b`,\n        beginWord: true,\n      },\n      {\n        token: \"keyword\",\n        regex: String.raw`(Adjoint|Controlled|Adj|Ctl|is|self|auto|distribute|invert|intrinsic)\\b`,\n        beginWord: true,\n      },\n      {\n        token: \"keyword\",\n        regex: String.raw`(let|set|use|borrow|mutable)\\b`,\n        beginWord: true,\n      },\n      {\n        token: \"operatorKeyword\",\n        regex: String.raw`(not|and|or)\\b|(w/)`,\n        beginWord: true,\n      },\n      {\n        token: \"operatorKeyword\",\n        regex: String.raw`(=)|(!)|(<)|(>)|(\\+)|(-)|(\\*)|(/)|(\\^)|(%)|(\\|)|(&&&)|(~~~)|(\\.\\.\\.)|(\\.\\.)|(\\?)`,\n        beginWord: false,\n      },\n      {\n        token: \"meta\",\n        regex: String.raw`(Int|BigInt|Double|Bool|Qubit|Pauli|Result|Range|String|Unit)\\b`,\n        beginWord: true,\n      },\n      {\n        token: \"atom\",\n        regex: String.raw`(true|false|Pauli(I|X|Y|Z)|One|Zero)\\b`,\n        beginWord: true,\n      },\n    ];\n    let simpleRules = [];\n    for (let rule of rules) {\n      simpleRules.push({\n        token: rule.token,\n        regex: new RegExp(rule.regex, \"g\"),\n        sol: rule.beginWord,\n      });\n      if (rule.beginWord) {\n        // Need an additional rule due to the fact that CodeMirror simple mode doesn't work with ^ token\n        simpleRules.push({\n          token: rule.token,\n          regex: new RegExp(String.raw`\\W` + rule.regex, \"g\"),\n          sol: false,\n        });\n      }\n    }\n\n    // Register the mode defined above with CodeMirror\n    window.CodeMirror.defineSimpleMode(\"qsharp\", { start: simpleRules });\n    window.CodeMirror.defineMIME(\"text/x-qsharp\", \"qsharp\");\n\n    // Tell Jupyter to associate %%qsharp magic cells with the qsharp mode\n    window.Jupyter.CodeCell.options_default.highlight_modes[\"qsharp\"] = {\n      reg: [/^%%qsharp/],\n    };\n\n    // Force re-highlighting of all cells the first time this code runs\n    for (const cell of window.Jupyter.notebook.get_cells()) {\n      cell.auto_highlight();\n    }\n  });\n}\n",
      "text/plain": []
     },
     "metadata": {},
     "output_type": "display_data"
    },
    {
     "name": "stdout",
     "output_type": "stream",
     "text": [
      "\n",
      " total physical qubits required:  146460 \n",
      " total runtime 2.4876848000000003\n"
     ]
    }
   ],
   "source": [
    "from qsharp.estimator import EstimatorParams\n",
    "from qsharp.interop.qiskit import ResourceEstimatorBackend\n",
    "params = EstimatorParams()\n",
    "params.error_budget = 0.01\n",
    "params.constraints.max_t_factories = 1\n",
    "backend = ResourceEstimatorBackend()\n",
    "job = backend.run(circuit, params)\n",
    "r = job.result()\n",
    "Q = r['physicalCounts']['physicalQubits']\n",
    "T = r['physicalCounts']['runtime']*1e-9\n",
    "print('\\n', 'total physical qubits required: ', Q, '\\n', 'total runtime', T)"
   ]
  },
  {
   "cell_type": "code",
   "execution_count": 9,
   "metadata": {},
   "outputs": [
    {
     "data": {
      "text/plain": [
       "{'LogicalQubits': 100,\n",
       " 'T': 0,\n",
       " 'cnot': 3600,\n",
       " 'Rotations': 2300,\n",
       " 'Toffoli': 0,\n",
       " 'Rotation_layer': 23.0}"
      ]
     },
     "execution_count": 9,
     "metadata": {},
     "output_type": "execute_result"
    }
   ],
   "source": [
    "estimate_resources(circuit)"
   ]
  },
  {
   "cell_type": "code",
   "execution_count": 5,
   "metadata": {},
   "outputs": [
    {
     "name": "stdout",
     "output_type": "stream",
     "text": [
      "50 50\n"
     ]
    }
   ],
   "source": [
    "print(subcircuit[0].num_qubits,subcircuit[1].num_qubits)"
   ]
  },
  {
   "cell_type": "code",
   "execution_count": 7,
   "metadata": {},
   "outputs": [
    {
     "name": "stdout",
     "output_type": "stream",
     "text": [
      "1\n",
      "0.43016523282807595\n",
      "1.6680227507189014\n",
      "2\n",
      "0.33785333879557555\n",
      "0.8340161420920851\n",
      "3\n",
      "0.24554144476307527\n",
      "0.556039361790529\n",
      "4\n",
      "0.05589239382766631\n",
      "0.3528531773131387\n",
      "5\n",
      "0.16666666666666663\n",
      "0.33360679331207876\n"
     ]
    }
   ],
   "source": [
    "from qsharp.estimator import EstimatorParams\n",
    "from qsharp.interop.qiskit import ResourceEstimatorBackend\n",
    "for i in range(1,6):\n",
    "    print(i)\n",
    "    params = EstimatorParams()\n",
    "    params.error_budget = 0.01\n",
    "    params.constraints.max_t_factories = 1\n",
    "    backend = ResourceEstimatorBackend()\n",
    "    job = backend.run(circ, params)\n",
    "    r = job.result()\n",
    "    Q = r['physicalCounts']['physicalQubits']\n",
    "    T = r['physicalCounts']['runtime']*1e-9\n",
    "    # print('\\n', 'total physical qubits required: ', Q, '\\n', 'total runtime', T)\n",
    "    params1 = EstimatorParams()\n",
    "    params2 = EstimatorParams()\n",
    "    params1.constraints.max_t_factories = i\n",
    "    params2.constraints.max_t_factories = i\n",
    "    params1.error_budget = 0.01*0.5\n",
    "    job1 = backend.run(subcircuit[0], params1)\n",
    "    r1 = job1.result()\n",
    "    params2.error_budget = 0.01*0.5\n",
    "    job2 = backend.run(subcircuit[1], params2)\n",
    "    r2 = job2.result()\n",
    "    print(1-max(r1['physicalCounts']['physicalQubits'],r2['physicalCounts']['physicalQubits'])/Q)\n",
    "    print(r1['physicalCounts']['runtime']*1e-9+r2['physicalCounts']['runtime']*1e-9/T)\n",
    "        # print('\\n', 'subcircuit-1 : physical qubits--', r1['physicalCounts']['physicalQubits'], 'runtime (in microsec)--', r1['physicalCounts']['runtime']*1e-3)\n",
    "        # print('\\n', 'subcircuit-2 : physical qubits--', r2['physicalCounts']['physicalQubits'], 'runtime (in microsec)--', r2['physicalCounts']['runtime']*1e-3)\n",
    "\n"
   ]
  },
  {
   "cell_type": "code",
   "execution_count": null,
   "metadata": {},
   "outputs": [],
   "source": [
    "1.67-0.33"
   ]
  },
  {
   "cell_type": "code",
   "execution_count": 10,
   "metadata": {},
   "outputs": [],
   "source": [
    "# Q_approx = PhysicalParameters.make_beverland_et_al(circuit, error_budget=[0.01/3]*3).Q\n",
    "# ratio = Q_approx/Q\n",
    "# q = []\n",
    "# sub_error_budget = [(0.01/20*e, 0.01-0.01/20*e) for e in range(1,20)]\n",
    "# for (e1, e2) in sub_error_budget:\n",
    "#     Q1 = PhysicalParameters.make_beverland_et_al(subcircuit[0], error_budget = [e1/3]*3).Q\n",
    "#     Q2 = PhysicalParameters.make_beverland_et_al(subcircuit[1], error_budget = [e2/3]*3).Q \n",
    "#     q.append(max(Q1, Q2)/ratio)\n",
    "\n",
    "# plt.scatter([e1 for (e1,e2) in sub_error_budget], q, label='subcircuits')\n",
    "# plt.plot([0, 0.01], [Q, Q], 'r--', label='original circuit')\n",
    "# plt.legend()\n",
    "# plt.xlabel('Error budget for the first subcircuit')\n",
    "# plt.ylabel('Number of Physical qubits')\n",
    "# plt.show()\n"
   ]
  },
  {
   "cell_type": "code",
   "execution_count": 11,
   "metadata": {},
   "outputs": [],
   "source": [
    "# Q_approx = PhysicalParameters.make_beverland_et_al(circuit, error_budget=[0.01/3]*3).Q\n",
    "# q = []\n",
    "# sub_error1 = []\n",
    "# # sol = {}\n",
    "# sol_q = Q_approx\n",
    "# sol_e = None\n",
    "# partition = error_budget_partition(0.01, len(subcircuits)*3)\n",
    "# sub_error_budget = partition + [l[::-1] for l in partition]\n",
    "# for e in sub_error_budget:\n",
    "#     Q1 = PhysicalParameters.make_beverland_et_al(subcircuit[0], error_budget = [i/5000 for i in e[:3]]).Q\n",
    "#     Q2 = PhysicalParameters.make_beverland_et_al(subcircuit[1], error_budget = [i/5000 for i in e[3:]]).Q \n",
    "#     m = max(Q1, Q2)\n",
    "#     q.append(m/ratio)\n",
    "#     sub_error1.append(sum(e[:3])/5000)\n",
    "#     if sol_q > m:\n",
    "#         sol_q = m\n",
    "#         sol_e = e\n",
    "        \n",
    "# print(sol_q, sol_e)\n",
    "# plt.scatter(sub_error1, [i/ratio for i in q], label='subcircuits')\n",
    "# plt.plot([0, 0.01], [Q, Q], 'r--', label='original circuit')\n",
    "# plt.legend()\n",
    "# # plt.ylim([min(q)-1000, Q_approx+1000])\n",
    "# plt.xlabel('Error budget for the first subcircuit')\n",
    "# plt.ylabel('Number of Physical qubits required')\n",
    "# plt.show()\n"
   ]
  },
  {
   "cell_type": "code",
   "execution_count": 6,
   "metadata": {},
   "outputs": [],
   "source": [
    "partition = list(accel_asc(20))\n",
    "sub_part = []\n",
    "for p in partition:\n",
    "    if len(p) == 2:\n",
    "        sub_part.append(list(p))\n",
    "sub_parts = []\n",
    "for s in sub_part:\n",
    "    for l in permutations(s):\n",
    "        sub_parts.append(l)\n",
    "e = list(set(sub_parts))"
   ]
  },
  {
   "cell_type": "code",
   "execution_count": 7,
   "metadata": {},
   "outputs": [
    {
     "data": {
      "image/png": "[encoded data removed]",
      "text/plain": [
       "<Figure size 640x480 with 1 Axes>"
      ]
     },
     "metadata": {},
     "output_type": "display_data"
    }
   ],
   "source": [
    "params1 = EstimatorParams()\n",
    "params2 = EstimatorParams()\n",
    "params1.constraints.max_t_factories = 1\n",
    "params2.constraints.max_t_factories = 1\n",
    "\n",
    "q = []\n",
    "t = []  \n",
    "for e1, e2 in e:\n",
    "    params1.error_budget = e1/2e3\n",
    "    job1 = backend.run(subcircuit[0], params1)\n",
    "    r1 = job1.result()\n",
    "    params2.error_budget = e2/2e3\n",
    "    job2 = backend.run(subcircuit[1], params2)\n",
    "    r2 = job2.result()\n",
    "    q.append(max(r1['physicalCounts']['physicalQubits'],r2['physicalCounts']['physicalQubits']))\n",
    "    t.append(r1['physicalCounts']['runtime']*1e-9+r2['physicalCounts']['runtime']*1e-9)\n",
    "    # print('\\n', 'subcircuit-1 : physical qubits--', r1['physicalCounts']['physicalQubits'], 'runtime (in microsec)--', r1['physicalCounts']['runtime']*1e-3)\n",
    "    # print('\\n', 'subcircuit-2 : physical qubits--', r2['physicalCounts']['physicalQubits'], 'runtime (in microsec)--', r2['physicalCounts']['runtime']*1e-3)\n",
    "\n",
    "plt.scatter([5*e1 for (e1,e2) in e], [i/Q for i in q], label='subcircuits')\n",
    "plt.plot([0, 100], [1, 1], 'r--', label='original circuit')\n",
    "plt.legend()\n",
    "plt.xlabel('Error budget portion for the first subcircuit')\n",
    "plt.ylabel('Number of Physical qubits required')\n",
    "plt.show()\n"
   ]
  },
  {
   "cell_type": "code",
   "execution_count": 9,
   "metadata": {},
   "outputs": [
    {
     "data": {
      "text/plain": [
       "[1.0447494196367608,\n",
       " 0.830301788884337,\n",
       " 0.830301788884337,\n",
       " 1.0447494196367608,\n",
       " 1.0447494196367608,\n",
       " 0.830301788884337,\n",
       " 0.830301788884337,\n",
       " 1.0447494196367608,\n",
       " 0.830301788884337,\n",
       " 1.0447494196367608,\n",
       " 1.0447494196367608,\n",
       " 0.830301788884337,\n",
       " 1.2490372798033593,\n",
       " 0.830301788884337,\n",
       " 1.112344667486003,\n",
       " 0.830301788884337,\n",
       " 0.830301788884337,\n",
       " 1.0447494196367608,\n",
       " 0.830301788884337]"
      ]
     },
     "execution_count": 9,
     "metadata": {},
     "output_type": "execute_result"
    }
   ],
   "source": [
    "[i/Q for i in q]"
   ]
  },
  {
   "cell_type": "code",
   "execution_count": 14,
   "metadata": {},
   "outputs": [],
   "source": [
    "partition = list(accel_asc(20))\n",
    "sub_part = []\n",
    "for p in partition:\n",
    "    if len(p) == 3:\n",
    "        sub_part.append(list(p))\n",
    "sub_parts = []\n",
    "for s in sub_part:\n",
    "    for l in permutations(s):\n",
    "        sub_parts.append(l)\n",
    "es = list(set(sub_parts))"
   ]
  },
  {
   "cell_type": "code",
   "execution_count": 18,
   "metadata": {},
   "outputs": [
    {
     "data": {
      "image/png": "[encoded data removed]",
      "text/plain": [
       "<Figure size 640x480 with 1 Axes>"
      ]
     },
     "metadata": {},
     "output_type": "display_data"
    }
   ],
   "source": [
    "# params1 = EstimatorParams()\n",
    "# params2 = EstimatorParams()\n",
    "# params1.constraints.max_t_factories = 1\n",
    "# params2.constraints.max_t_factories = 1\n",
    "\n",
    "# qs = []\n",
    "# ts = []  \n",
    "# for e1, e2, e3 in es:\n",
    "#     params1.error_budget = ErrorBudgetPartition(e1/1e4, e2/1e4, e3/1e4) \n",
    "#     job1 = backend.run(subcircuit[0], params1)\n",
    "#     r1 = job1.result()\n",
    "#     params2.error_budget = ErrorBudgetPartition(8/3e3, 8/3e3, 8/3e3) \n",
    "#     job2 = backend.run(subcircuit[1], params2)\n",
    "#     r2 = job2.result()\n",
    "#     qs.append(max(r1['physicalCounts']['physicalQubits'],r2['physicalCounts']['physicalQubits']))\n",
    "#     ts.append(r1['physicalCounts']['runtime']*1e-9+r2['physicalCounts']['runtime']*1e-9)\n",
    "\n",
    "plt.scatter([5*(e1+e2+e3) for (e1,e2,e3) in es], [i/Q for i in qs], label='subcircuits')\n",
    "plt.plot([0, 100], [1, 1], 'r--', label='original circuit')\n",
    "plt.legend()\n",
    "plt.xlabel('Error budget portion for the first subcircuit')\n",
    "plt.ylabel('Number of Physical qubits required')\n",
    "plt.show()\n"
   ]
  },
  {
   "cell_type": "code",
   "execution_count": null,
   "metadata": {},
   "outputs": [],
   "source": [
    "# # Define angles for radar plot (hexagon has 6 sides)\n",
    "# num_vars = 6\n",
    "# angles = np.linspace(0, 2 * np.pi, num_vars, endpoint=False).tolist()\n",
    "# angles += angles[:1]  # Complete the loop\n",
    "\n",
    "\n",
    "# # Create radar chart\n",
    "# fig, ax = plt.subplots(figsize=(6, 6), subplot_kw=dict(polar=True))\n",
    "\n",
    "# # Plot each combination and corresponding function size\n",
    "# for comb in es:\n",
    "#     values = list(comb)\n",
    "#     values += values[:1]  # Repeat the first value to close the polygon\n",
    "#     function_value = error_gen(*comb)\n",
    "\n",
    "#     # Normalize the values for plotting\n",
    "#     normalized_values = [v / 100.0 for v in values]\n",
    "\n",
    "#     # Plot\n",
    "#     ax.fill(angles, normalized_values, alpha=0.25)\n",
    "#     ax.plot(angles, normalized_values, linewidth=2, label=f'f={function_value:.2f}')\n",
    "\n",
    "# # Customize plot\n",
    "# ax.set_yticklabels([])  # Hide radial labels\n",
    "# ax.set_xticks(angles[:-1])\n",
    "# ax.set_xticklabels([f'e{i+1}' for i in range(num_vars)])\n",
    "\n",
    "# plt.title('Function size with different combinations of variables (e1 to e6)')\n",
    "\n",
    "# plt.show()\n"
   ]
  }
 ],
 "metadata": {
  "kernelspec": {
   "display_name": "Python 3",
   "language": "python",
   "name": "python3"
  },
  "language_info": {
   "codemirror_mode": {
    "name": "ipython",
    "version": 3
   },
   "file_extension": ".py",
   "mimetype": "text/x-python",
   "name": "python",
   "nbconvert_exporter": "python",
   "pygments_lexer": "ipython3",
   "version": "3.12.5"
  }
 },
 "nbformat": 4,
 "nbformat_minor": 2
}
