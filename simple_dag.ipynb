{
 "cells": [
  {
   "cell_type": "code",
   "execution_count": 1,
   "metadata": {},
   "outputs": [],
   "source": [
    "from qiskit.quantum_info import SparsePauliOp\n",
    "import numpy as np\n",
    "from qiskit.synthesis import SuzukiTrotter\n",
    "from qiskit.quantum_info import Statevector\n",
    "from qiskit.circuit import QuantumCircuit\n",
    "from qiskit.circuit.library import PauliEvolutionGate\n",
    "from qiskit.converters import circuit_to_dag\n",
    "from qiskit import transpile\n",
    "\n",
    "from cutter_search import *\n",
    "from resource_analysis import PhysicalParameters\n",
    "\n",
    "\n",
    "def get_hamiltonian(L, J, h, alpha=0):\n",
    "\n",
    "    # List of Hamiltonian terms as 3-tuples containing\n",
    "    # (1) the Pauli string,\n",
    "    # (2) the qubit indices corresponding to the Pauli string,\n",
    "    # (3) the coefficient.\n",
    "    ZZ_tuples = [(\"ZZ\", [i, i + 1], -J) for i in range(0, L - 1)]\n",
    "    Z_tuples = [(\"Z\", [i], -h * np.sin(alpha)) for i in range(0, L)]\n",
    "    X_tuples = [(\"X\", [i], -h * np.cos(alpha)) for i in range(0, L)]\n",
    "\n",
    "    # We create the Hamiltonian as a SparsePauliOp, via the method\n",
    "    # `from_sparse_list`, and multiply by the interaction term.\n",
    "    hamiltonian = SparsePauliOp.from_sparse_list([*ZZ_tuples, *Z_tuples, *X_tuples], num_qubits=L)\n",
    "    return hamiltonian.simplify()"
   ]
  },
  {
   "cell_type": "code",
   "execution_count": 2,
   "metadata": {},
   "outputs": [
    {
     "name": "stdout",
     "output_type": "stream",
     "text": [
      "\n",
      "Trotter step with Suzuki Trotter (2nd order)\n",
      "--------------------------------------------\n",
      "\n",
      "                  Depth: 15\n",
      "             Gate count: 21\n",
      "    Nonlocal gate count: 8\n",
      "         Gate breakdown: RZ: 10, CX: 8, RY: 2, RX: 1\n",
      "\n",
      "\n",
      "SparsePauliOp(['IZZ', 'ZZI', 'IIZ', 'IZI', 'ZII', 'IIX', 'IXI', 'XII'],\n",
      "              coeffs=[-0.2       +0.j, -0.2       +0.j, -0.38268343+0.j, -0.38268343+0.j,\n",
      " -0.38268343+0.j, -0.92387953+0.j, -0.92387953+0.j, -0.92387953+0.j])\n"
     ]
    },
    {
     "data": {
      "image/png": "[encoded data removed]",
      "text/plain": [
       "<Figure size 1374.44x284.278 with 1 Axes>"
      ]
     },
     "execution_count": 2,
     "metadata": {},
     "output_type": "execute_result"
    }
   ],
   "source": [
    "second_order_formula = SuzukiTrotter()\n",
    "\n",
    "L = 3\n",
    "H = get_hamiltonian(L=L, J=0.2, h=1.0, alpha=np.pi / 8)\n",
    "final_time = np.pi\n",
    "num_timesteps = 10\n",
    "dt = final_time / num_timesteps\n",
    "initial_state = Statevector.from_label(\"000\")\n",
    "\n",
    "trotter_step_second_order = PauliEvolutionGate(H, dt, synthesis=second_order_formula)\n",
    "circuit = QuantumCircuit(H.num_qubits)\n",
    "for i in range(1):\n",
    "    circuit.append(trotter_step_second_order, range(H.num_qubits))\n",
    "# circuit = circuit.decompose(reps=1)\n",
    "target_basis = ['rx', 'ry', 'rz', 'h', 'cx']\n",
    "circuit = transpile(circuit,\n",
    "                       basis_gates=target_basis, \n",
    "                       optimization_level=1) \n",
    "\n",
    "# Let us print some stats\n",
    "print(\n",
    "    f\"\"\"\n",
    "Trotter step with Suzuki Trotter (2nd order)\n",
    "--------------------------------------------\n",
    "\n",
    "                  Depth: {circuit.depth()}\n",
    "             Gate count: {len(circuit)}\n",
    "    Nonlocal gate count: {circuit.num_nonlocal_gates()}\n",
    "         Gate breakdown: {\", \".join([f\"{k.upper()}: {v}\" for k, v in circuit.count_ops().items()])}\n",
    "\n",
    "\"\"\"\n",
    ")\n",
    "print(H)\n",
    "\n",
    "circuit.draw(\"mpl\")"
   ]
  },
  {
   "cell_type": "code",
   "execution_count": 3,
   "metadata": {},
   "outputs": [],
   "source": [
    "# DAG = circuit_to_dag(circuit)\n",
    "# DAG.draw(scale=0.7)"
   ]
  },
  {
   "cell_type": "code",
   "execution_count": 4,
   "metadata": {},
   "outputs": [],
   "source": [
    "# import qiskit.qasm2\n",
    "# export_circ = qiskit.qasm2.dumps(circuit)\n",
    "# from cirq.contrib.qasm_import import circuit_from_qasm\n",
    "# import_circ = circuit_from_qasm(export_circ)"
   ]
  },
  {
   "cell_type": "code",
   "execution_count": 5,
   "metadata": {},
   "outputs": [],
   "source": [
    "# PhysicalParameters.make_beverland_et_al(circuit)"
   ]
  },
  {
   "cell_type": "code",
   "execution_count": 6,
   "metadata": {},
   "outputs": [],
   "source": [
    "# from cutter import find_cuts_cutqc\n",
    "# find_cuts_cutqc(circuit,    \n",
    "#     max_subcircuit_width=np.ceil(circuit.num_qubits / 4 * 3),\n",
    "#     max_cuts=10,\n",
    "#     num_subcircuits=[2,3],\n",
    "#     max_subcircuit_cuts=10,\n",
    "#     subcircuit_size_imbalance=2,\n",
    "#     verbose=True,)"
   ]
  },
  {
   "cell_type": "code",
   "execution_count": 7,
   "metadata": {},
   "outputs": [],
   "source": [
    "# stripped_circ = circuit_stripping(circuit=circuit)\n",
    "# n_vertices, gedges, wedges, node_name_ids, id_node_names = read_circ(circuit=stripped_circ)"
   ]
  },
  {
   "cell_type": "code",
   "execution_count": 8,
   "metadata": {},
   "outputs": [],
   "source": [
    "# a = circuit_to_dag(circuit)\n",
    "# for i in a.nodes_on_wire(wire=circuit_to_dag(circuit).qubits[0], only_ops=True):\n",
    "#     print(i.qargs)\n",
    "# print('--------')\n",
    "# a.remove_op_node(list(circuit_to_dag(circuit).nodes_on_wire(wire=circuit_to_dag(circuit).qubits[0], only_ops=True))[0])\n",
    "# for i in a.nodes_on_wire(wire=circuit_to_dag(circuit).qubits[0], only_ops=True):\n",
    "#     print(i.qargs)\n",
    "# print('---------')\n",
    "# a.apply_operation_front(op, qargs=[q1])\n",
    "# a.apply_operation_front(op, qargs=[q2])\n",
    "# for i in a.nodes_on_wire(wire=circuit_to_dag(circuit).qubits[0], only_ops=True):\n",
    "#     print(i.qargs)"
   ]
  },
  {
   "cell_type": "code",
   "execution_count": 9,
   "metadata": {},
   "outputs": [
    {
     "name": "stdout",
     "output_type": "stream",
     "text": [
      "Restricted license - for non-production use only - expires 2025-11-24\n"
     ]
    },
    {
     "name": "stdout",
     "output_type": "stream",
     "text": [
      "[[1.0, 1.0, 1.0, 1.0, 1.0, 1.0, 1.0, 1.0, 0.0, 0.0, 0.0, -0.0, 0.0, 0.0, 0.0, -0.0, -0.0, 0.0, 0.0, 0.0, 0.0, 0.0, -0.0, 1.0, 1.0, 1.0, 1.0, 1.0, 1.0], [0.0, 0.0, 0.0, 0.0, 0.0, 0.0, 0.0, 0.0, 1.0, 1.0, 1.0, 1.0, 1.0, 1.0, 1.0, 1.0, 1.0, 1.0, 1.0, 1.0, 1.0, 1.0, 1.0, 0.0, 0.0, 0.0, 0.0, 0.0, 0.0]]\n",
      "--------------------\n",
      "Cutter result:\n",
      "2 subcircuits, 3 cuts\n",
      "subcircuit 0\n",
      "init qubits = 2, measure qubits = 1, width = 4, effective = 3, depth = 9, size = 10\n",
      "Operations needed: {'cx': 4, 'rz': 4, 'ry': 1, 'Target0': 1}\n",
      "Resource needed: PhysicalParameters(Q=88962.0, logical_time_step=0.00010800000000000001, number_of_T_gates=60.0)\n",
      "                                  ┌────────────┐┌─────────────┐┌────────────┐»\n",
      "q_0: ─────■────────────────────■──┤ Rz(-1.691) ├┤ Ry(0.58049) ├┤ Rz(1.4506) ├»\n",
      "        ┌─┴─┐   ┌───────────┐┌─┴─┐└────────────┘└─────────────┘└────────────┘»\n",
      "q_1: ───┤ X ├───┤ Rz(-π/50) ├┤ X ├───────────────────────────────────────────»\n",
      "        └───┘   └───────────┘└───┘                                           »\n",
      "q_2: ────────────────────────────────────────────────────────────────────────»\n",
      "     ┌─────────┐                                                             »\n",
      "q_3: ┤ Target0 ├─────────────────────────────────────────────────────────────»\n",
      "     └─────────┘                                                             »\n",
      "«                            \n",
      "«q_0: ──■─────────────────■──\n",
      "«       │                 │  \n",
      "«q_1: ──┼─────────────────┼──\n",
      "«     ┌─┴─┐┌───────────┐┌─┴─┐\n",
      "«q_2: ┤ X ├┤ Rz(-π/50) ├┤ X ├\n",
      "«     └───┘└───────────┘└───┘\n",
      "«q_3: ───────────────────────\n",
      "«                            \n",
      "subcircuit 1\n",
      "init qubits = 1, measure qubits = 2, width = 2, effective = 0, depth = 8, size = 12\n",
      "Operations needed: {'cx': 3, 'rz': 6, 'ry': 1, 'rx': 1, 'Control0': 1}\n",
      "Resource needed: PhysicalParameters(Q=73962.0, logical_time_step=0.00021960000000000003, number_of_T_gates=104.0)\n",
      "                             ┌────────────┐ ┌─────────────┐  ┌────────────┐ »\n",
      "q_0: ──■─────────────────■───┤ Rz(-1.691) ├─┤ Ry(0.58049) ├──┤ Rz(1.4506) ├─»\n",
      "     ┌─┴─┐┌───────────┐┌─┴─┐┌┴────────────┴┐├─────────────┴┐┌┴────────────┴┐»\n",
      "q_1: ┤ X ├┤ Rz(-π/50) ├┤ X ├┤ Rz(-0.12022) ├┤ Rx(-0.58049) ├┤ Rz(-0.12022) ├»\n",
      "     └───┘└───────────┘└───┘└──────────────┘└──────────────┘└──────────────┘»\n",
      "«           ┌──────────┐\n",
      "«q_0: ──■───┤ Control0 ├\n",
      "«     ┌─┴─┐┌┴──────────┤\n",
      "«q_1: ┤ X ├┤ Rz(-π/50) ├\n",
      "«     └───┘└───────────┘\n",
      "Model objective value = 3.00e+00\n",
      "MIP runtime: 0.07044100761413574\n",
      "OPTIMAL, MIP gap = 0.0\n",
      "--------------------\n"
     ]
    },
    {
     "data": {
      "text/plain": [
       "{'subcircuits': [<qiskit.circuit.quantumcircuit.QuantumCircuit at 0x131007c50>,\n",
       "  <qiskit.circuit.quantumcircuit.QuantumCircuit at 0x130fa35c0>],\n",
       " 'complete_path_map': {Qubit(QuantumRegister(3, 'q'), 0): [{'subcircuit_idx': 0,\n",
       "    'subcircuit_qubit': Qubit(QuantumRegister(4, 'q'), 0)}],\n",
       "  Qubit(QuantumRegister(3, 'q'), 1): [{'subcircuit_idx': 0,\n",
       "    'subcircuit_qubit': Qubit(QuantumRegister(4, 'q'), 1)},\n",
       "   {'subcircuit_idx': 1,\n",
       "    'subcircuit_qubit': Qubit(QuantumRegister(2, 'q'), 0)},\n",
       "   {'subcircuit_idx': 0,\n",
       "    'subcircuit_qubit': Qubit(QuantumRegister(4, 'q'), 2)}],\n",
       "  Qubit(QuantumRegister(3, 'q'), 2): [{'subcircuit_idx': 1,\n",
       "    'subcircuit_qubit': Qubit(QuantumRegister(2, 'q'), 1)},\n",
       "   {'subcircuit_idx': 0,\n",
       "    'subcircuit_qubit': Qubit(QuantumRegister(4, 'q'), 3)}]},\n",
       " 'num_cuts': 3,\n",
       " 'counter': {0: {'effective': 3,\n",
       "   'init': 2,\n",
       "   'meas': 1,\n",
       "   'Q': 4,\n",
       "   'depth': 9,\n",
       "   'size': 10},\n",
       "  1: {'effective': 0, 'init': 1, 'meas': 2, 'Q': 2, 'depth': 8, 'size': 12}}}"
      ]
     },
     "execution_count": 9,
     "metadata": {},
     "output_type": "execute_result"
    }
   ],
   "source": [
    "find_cuts(circuit,    \n",
    "    max_subcircuit_width=np.ceil(circuit.num_qubits / 4 * 3),\n",
    "    max_cuts=10,\n",
    "    num_subcircuits=[2,3],\n",
    "    max_subcircuit_cuts=10,\n",
    "    subcircuit_size_imbalance=2,\n",
    "    verbose=True)"
   ]
  }
 ],
 "metadata": {
  "kernelspec": {
   "display_name": "Python 3",
   "language": "python",
   "name": "python3"
  },
  "language_info": {
   "codemirror_mode": {
    "name": "ipython",
    "version": 3
   },
   "file_extension": ".py",
   "mimetype": "text/x-python",
   "name": "python",
   "nbconvert_exporter": "python",
   "pygments_lexer": "ipython3",
   "version": "3.12.4"
  }
 },
 "nbformat": 4,
 "nbformat_minor": 2
}
