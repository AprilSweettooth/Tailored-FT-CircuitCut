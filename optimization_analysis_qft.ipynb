{
 "cells": [
  {
   "cell_type": "code",
   "execution_count": 7,
   "metadata": {},
   "outputs": [
    {
     "name": "stdout",
     "output_type": "stream",
     "text": [
      "lattice: 3\n",
      "0.7760336906584993 0.6969696969696969\n",
      "1.7598774885145483 0.33233877233877235\n",
      "2.6653139356814703 0.22920327535712154\n",
      "2.2645482388973965 0.17454545454545453\n",
      "2.7821592649310873 0.1393939393939394\n",
      "lattice: 4\n",
      "0.8147229951935239 0.6875207302119654\n",
      "0.9686314191753099 0.4062717053264655\n",
      "1.3106501391348344 0.2711251694532309\n",
      "1.6526688590943588 0.20313585266323275\n",
      "1.9946875790538832 0.16250174798302983\n",
      "lattice: 5\n",
      "0.6808791052219135 0.8387455196913799\n",
      "1.3026287668305194 0.4016981674614362\n",
      "1.7712117973926051 0.2571793301713491\n",
      "1.562833938875828 0.20968851667367724\n",
      "1.9623138847332051 0.1663735248024879\n",
      "lattice: 6\n",
      "0.5582308990118101 0.8597271959615634\n",
      "0.7751506387081224 0.4298666798158296\n",
      "0.9920703784044348 0.286579841100585\n",
      "1.2089901181007472 0.2149333399079148\n",
      "1.4259098577970595 0.17194790466035098\n",
      "lattice: 7\n",
      "0.6109239977674705 0.8852678156817505\n",
      "0.6968378914143845 0.4426314328022293\n",
      "0.8700513866702593 0.2951589658392809\n",
      "1.043264881926134 0.22131418423433383\n",
      "1.216478377182009 0.1770437572689528\n",
      "lattice: 8\n",
      "0.5987130511022044 0.9166691975689839\n",
      "0.8946173597194389 0.46290540836952526\n",
      "0.7892190631262525 0.3056006825799148\n",
      "0.930125876753507 0.2291665445617303\n",
      "1.0710326903807614 0.18333323564938425\n",
      "lattice: 9\n",
      "0.5793031115254632 0.9162875636370491\n",
      "0.695839645728936 0.4581550100513477\n",
      "1.0046614613681388 0.30325543896984153\n",
      "0.8366157790467311 0.22909282255316704\n",
      "0.9531523132502039 0.18325709686693492\n"
     ]
    }
   ],
   "source": [
    "import numpy as np\n",
    "import matplotlib.pyplot as plt\n",
    "from gate_estimation.resource_analysis import *\n",
    "from gate_estimation.optimization_utils import *\n",
    "from benchmark_utils import *\n",
    "from qsharp.estimator import EstimatorParams\n",
    "from qsharp.interop.qiskit import ResourceEstimatorBackend\n",
    "from qiskit_addon_cutting.automated_cut_finding import (\n",
    "    find_cuts,\n",
    "    OptimizationParameters,\n",
    "    DeviceConstraints,\n",
    ")\n",
    "from qiskit_addon_cutting import cut_wires,partition_problem\n",
    "\n",
    "for i in [3,4,5,6,7,8,9]:\n",
    "    print('lattice:',i)\n",
    "    for j in [1,2,3,4,5]:\n",
    "        circuit =build_lattice_hamiltonian(num_spins=i**2, Dimension=(i,i), model='Ising')\n",
    "        # Specify settings for the cut-finding optimizer\n",
    "        optimization_settings = OptimizationParameters(seed=111)\n",
    "\n",
    "        # Specify the size of the QPUs available\n",
    "        device_constraints = DeviceConstraints(qubits_per_subcircuit=circuit.num_qubits//2)\n",
    "\n",
    "        cut_circuits, metadata = find_cuts(circuit, optimization_settings, device_constraints)\n",
    "        \n",
    "        qc_w_ancilla = cut_wires(cut_circuits)\n",
    "        partitioned_problem = partition_problem(circuit=qc_w_ancilla)\n",
    "        subcircuit= partitioned_problem.subcircuits\n",
    "        subcircuits = [cuts_filter(s) for s in subcircuit.values()]\n",
    "\n",
    "        params = EstimatorParams()\n",
    "        params.error_budget = 0.001\n",
    "        params.constraints.max_t_factories = 1\n",
    "        backend = ResourceEstimatorBackend()\n",
    "        job = backend.run(circuit, params)\n",
    "        r = job.result()\n",
    "        Q = r['physicalCounts']['physicalQubits']\n",
    "        T = r['physicalCounts']['runtime']*1e-9\n",
    "        \n",
    "        total_partition = [c.num_qubits for c in subcircuits]\n",
    "        error_buget = [0.001*p/sum(total_partition) for p in total_partition]\n",
    "        r = []\n",
    "        t = 0\n",
    "        for idx, s in enumerate(subcircuits):\n",
    "            # params = estimator.make_params(num_items=1)\n",
    "            # params.constraints.max_t_factories = 1\n",
    "            # params.error_budget = error_buget[idx]\n",
    "            # job = estimator.submit(s, input_params=params)\n",
    "\n",
    "            params = EstimatorParams()\n",
    "            params.error_budget = error_buget[idx]\n",
    "            params.constraints.max_t_factories = j\n",
    "            backend = ResourceEstimatorBackend()\n",
    "            job = backend.run(s, params)    \n",
    "            r.append(job.result()['physicalCounts']['physicalQubits'])\n",
    "            t += job.result()['physicalCounts']['runtime']*1e-9\n",
    "        print(max(r)/Q, t/T)"
   ]
  },
  {
   "cell_type": "code",
   "execution_count": 9,
   "metadata": {},
   "outputs": [
    {
     "ename": "EstimatorError",
     "evalue": "Error estimating resources (Qsc.Estimates.AlgorithmHasNoResources):\nAlgorithm requires at least one magic state or measurement to estimate resources",
     "output_type": "error",
     "traceback": [
      "\u001b[0;31m---------------------------------------------------------------------------\u001b[0m",
      "\u001b[0;31mEstimatorError\u001b[0m                            Traceback (most recent call last)",
      "Cell \u001b[0;32mIn[9], line 40\u001b[0m\n\u001b[1;32m     38\u001b[0m     backend \u001b[38;5;241m=\u001b[39m ResourceEstimatorBackend()\n\u001b[1;32m     39\u001b[0m     job \u001b[38;5;241m=\u001b[39m backend\u001b[38;5;241m.\u001b[39mrun(s, params)    \n\u001b[0;32m---> 40\u001b[0m     r\u001b[38;5;241m.\u001b[39mappend(\u001b[43mjob\u001b[49m\u001b[38;5;241;43m.\u001b[39;49m\u001b[43mresult\u001b[49m\u001b[43m(\u001b[49m\u001b[43m)\u001b[49m[\u001b[38;5;124m'\u001b[39m\u001b[38;5;124mphysicalCounts\u001b[39m\u001b[38;5;124m'\u001b[39m][\u001b[38;5;124m'\u001b[39m\u001b[38;5;124mphysicalQubits\u001b[39m\u001b[38;5;124m'\u001b[39m])\n\u001b[1;32m     41\u001b[0m \u001b[38;5;28;01mfor\u001b[39;00m idx, s \u001b[38;5;129;01min\u001b[39;00m \u001b[38;5;28menumerate\u001b[39m(subcircuits):\n\u001b[1;32m     42\u001b[0m     params \u001b[38;5;241m=\u001b[39m EstimatorParams()\n",
      "File \u001b[0;32m/usr/local/lib/python3.12/site-packages/qsharp/interop/qiskit/jobs/qsjob.py:117\u001b[0m, in \u001b[0;36mReJob.result\u001b[0;34m(self, timeout)\u001b[0m\n\u001b[1;32m    116\u001b[0m \u001b[38;5;28;01mdef\u001b[39;00m \u001b[38;5;21mresult\u001b[39m(\u001b[38;5;28mself\u001b[39m, timeout: Optional[\u001b[38;5;28mfloat\u001b[39m] \u001b[38;5;241m=\u001b[39m \u001b[38;5;28;01mNone\u001b[39;00m) \u001b[38;5;241m-\u001b[39m\u001b[38;5;241m>\u001b[39m EstimatorResult:\n\u001b[0;32m--> 117\u001b[0m     \u001b[38;5;28;01mreturn\u001b[39;00m \u001b[38;5;28;43mself\u001b[39;49m\u001b[38;5;241;43m.\u001b[39;49m\u001b[43m_result\u001b[49m\u001b[43m(\u001b[49m\u001b[43mtimeout\u001b[49m\u001b[38;5;241;43m=\u001b[39;49m\u001b[43mtimeout\u001b[49m\u001b[43m)\u001b[49m\n",
      "File \u001b[0;32m/usr/local/lib/python3.12/site-packages/qsharp/interop/qiskit/jobs/qsjob.py:69\u001b[0m, in \u001b[0;36mQsJob._result\u001b[0;34m(self, timeout)\u001b[0m\n\u001b[1;32m     66\u001b[0m \u001b[38;5;28;01mif\u001b[39;00m \u001b[38;5;28mself\u001b[39m\u001b[38;5;241m.\u001b[39m_future \u001b[38;5;129;01mis\u001b[39;00m \u001b[38;5;28;01mNone\u001b[39;00m:\n\u001b[1;32m     67\u001b[0m     \u001b[38;5;28;01mraise\u001b[39;00m JobError(\u001b[38;5;124m\"\u001b[39m\u001b[38;5;124mJob has not been submitted.\u001b[39m\u001b[38;5;124m\"\u001b[39m)\n\u001b[0;32m---> 69\u001b[0m \u001b[38;5;28;01mreturn\u001b[39;00m \u001b[38;5;28;43mself\u001b[39;49m\u001b[38;5;241;43m.\u001b[39;49m\u001b[43m_future\u001b[49m\u001b[38;5;241;43m.\u001b[39;49m\u001b[43mresult\u001b[49m\u001b[43m(\u001b[49m\u001b[43mtimeout\u001b[49m\u001b[38;5;241;43m=\u001b[39;49m\u001b[43mtimeout\u001b[49m\u001b[43m)\u001b[49m\n",
      "File \u001b[0;32m/usr/local/Cellar/python@3.12/3.12.5/Frameworks/Python.framework/Versions/3.12/lib/python3.12/concurrent/futures/_base.py:456\u001b[0m, in \u001b[0;36mFuture.result\u001b[0;34m(self, timeout)\u001b[0m\n\u001b[1;32m    454\u001b[0m     \u001b[38;5;28;01mraise\u001b[39;00m CancelledError()\n\u001b[1;32m    455\u001b[0m \u001b[38;5;28;01melif\u001b[39;00m \u001b[38;5;28mself\u001b[39m\u001b[38;5;241m.\u001b[39m_state \u001b[38;5;241m==\u001b[39m FINISHED:\n\u001b[0;32m--> 456\u001b[0m     \u001b[38;5;28;01mreturn\u001b[39;00m \u001b[38;5;28;43mself\u001b[39;49m\u001b[38;5;241;43m.\u001b[39;49m\u001b[43m__get_result\u001b[49m\u001b[43m(\u001b[49m\u001b[43m)\u001b[49m\n\u001b[1;32m    457\u001b[0m \u001b[38;5;28;01melse\u001b[39;00m:\n\u001b[1;32m    458\u001b[0m     \u001b[38;5;28;01mraise\u001b[39;00m \u001b[38;5;167;01mTimeoutError\u001b[39;00m()\n",
      "File \u001b[0;32m/usr/local/Cellar/python@3.12/3.12.5/Frameworks/Python.framework/Versions/3.12/lib/python3.12/concurrent/futures/_base.py:401\u001b[0m, in \u001b[0;36mFuture.__get_result\u001b[0;34m(self)\u001b[0m\n\u001b[1;32m    399\u001b[0m \u001b[38;5;28;01mif\u001b[39;00m \u001b[38;5;28mself\u001b[39m\u001b[38;5;241m.\u001b[39m_exception:\n\u001b[1;32m    400\u001b[0m     \u001b[38;5;28;01mtry\u001b[39;00m:\n\u001b[0;32m--> 401\u001b[0m         \u001b[38;5;28;01mraise\u001b[39;00m \u001b[38;5;28mself\u001b[39m\u001b[38;5;241m.\u001b[39m_exception\n\u001b[1;32m    402\u001b[0m     \u001b[38;5;28;01mfinally\u001b[39;00m:\n\u001b[1;32m    403\u001b[0m         \u001b[38;5;66;03m# Break a reference cycle with the exception in self._exception\u001b[39;00m\n\u001b[1;32m    404\u001b[0m         \u001b[38;5;28mself\u001b[39m \u001b[38;5;241m=\u001b[39m \u001b[38;5;28;01mNone\u001b[39;00m\n",
      "File \u001b[0;32m/usr/local/Cellar/python@3.12/3.12.5/Frameworks/Python.framework/Versions/3.12/lib/python3.12/concurrent/futures/thread.py:58\u001b[0m, in \u001b[0;36m_WorkItem.run\u001b[0;34m(self)\u001b[0m\n\u001b[1;32m     55\u001b[0m     \u001b[38;5;28;01mreturn\u001b[39;00m\n\u001b[1;32m     57\u001b[0m \u001b[38;5;28;01mtry\u001b[39;00m:\n\u001b[0;32m---> 58\u001b[0m     result \u001b[38;5;241m=\u001b[39m \u001b[38;5;28;43mself\u001b[39;49m\u001b[38;5;241;43m.\u001b[39;49m\u001b[43mfn\u001b[49m\u001b[43m(\u001b[49m\u001b[38;5;241;43m*\u001b[39;49m\u001b[38;5;28;43mself\u001b[39;49m\u001b[38;5;241;43m.\u001b[39;49m\u001b[43margs\u001b[49m\u001b[43m,\u001b[49m\u001b[43m \u001b[49m\u001b[38;5;241;43m*\u001b[39;49m\u001b[38;5;241;43m*\u001b[39;49m\u001b[38;5;28;43mself\u001b[39;49m\u001b[38;5;241;43m.\u001b[39;49m\u001b[43mkwargs\u001b[49m\u001b[43m)\u001b[49m\n\u001b[1;32m     59\u001b[0m \u001b[38;5;28;01mexcept\u001b[39;00m \u001b[38;5;167;01mBaseException\u001b[39;00m \u001b[38;5;28;01mas\u001b[39;00m exc:\n\u001b[1;32m     60\u001b[0m     \u001b[38;5;28mself\u001b[39m\u001b[38;5;241m.\u001b[39mfuture\u001b[38;5;241m.\u001b[39mset_exception(exc)\n",
      "File \u001b[0;32m/usr/local/lib/python3.12/site-packages/qsharp/interop/qiskit/backends/backend_base.py:287\u001b[0m, in \u001b[0;36mBackendBase.run_job\u001b[0;34m(self, run_input, job_id, **options)\u001b[0m\n\u001b[1;32m    281\u001b[0m output[\u001b[38;5;124m\"\u001b[39m\u001b[38;5;124mconfig\u001b[39m\u001b[38;5;124m\"\u001b[39m] \u001b[38;5;241m=\u001b[39m {\n\u001b[1;32m    282\u001b[0m     \u001b[38;5;124m\"\u001b[39m\u001b[38;5;124mqasm_export_options\u001b[39m\u001b[38;5;124m\"\u001b[39m: \u001b[38;5;28mstr\u001b[39m(\u001b[38;5;28mself\u001b[39m\u001b[38;5;241m.\u001b[39m_build_qasm_export_options(\u001b[38;5;241m*\u001b[39m\u001b[38;5;241m*\u001b[39moptions)),\n\u001b[1;32m    283\u001b[0m     \u001b[38;5;124m\"\u001b[39m\u001b[38;5;124mqiskit_pass_options\u001b[39m\u001b[38;5;124m\"\u001b[39m: \u001b[38;5;28mstr\u001b[39m(\u001b[38;5;28mself\u001b[39m\u001b[38;5;241m.\u001b[39m_build_qiskit_pass_options(\u001b[38;5;241m*\u001b[39m\u001b[38;5;241m*\u001b[39moptions)),\n\u001b[1;32m    284\u001b[0m     \u001b[38;5;124m\"\u001b[39m\u001b[38;5;124mtranspile_options\u001b[39m\u001b[38;5;124m\"\u001b[39m: \u001b[38;5;28mstr\u001b[39m(\u001b[38;5;28mself\u001b[39m\u001b[38;5;241m.\u001b[39m_build_transpile_options(\u001b[38;5;241m*\u001b[39m\u001b[38;5;241m*\u001b[39moptions)),\n\u001b[1;32m    285\u001b[0m }\n\u001b[1;32m    286\u001b[0m output[\u001b[38;5;124m\"\u001b[39m\u001b[38;5;124mheader\u001b[39m\u001b[38;5;124m\"\u001b[39m] \u001b[38;5;241m=\u001b[39m {}\n\u001b[0;32m--> 287\u001b[0m \u001b[38;5;28;01mreturn\u001b[39;00m \u001b[38;5;28;43mself\u001b[39;49m\u001b[38;5;241;43m.\u001b[39;49m\u001b[43m_create_results\u001b[49m\u001b[43m(\u001b[49m\u001b[43moutput\u001b[49m\u001b[43m)\u001b[49m\n",
      "File \u001b[0;32m/usr/local/lib/python3.12/site-packages/qsharp/interop/qiskit/backends/re_backend.py:184\u001b[0m, in \u001b[0;36mResourceEstimatorBackend._create_results\u001b[0;34m(self, output)\u001b[0m\n\u001b[1;32m    183\u001b[0m \u001b[38;5;28;01mdef\u001b[39;00m \u001b[38;5;21m_create_results\u001b[39m(\u001b[38;5;28mself\u001b[39m, output: Dict[\u001b[38;5;28mstr\u001b[39m, Any]) \u001b[38;5;241m-\u001b[39m\u001b[38;5;241m>\u001b[39m EstimatorResult:\n\u001b[0;32m--> 184\u001b[0m     \u001b[38;5;28;01mreturn\u001b[39;00m \u001b[43mEstimatorResult\u001b[49m\u001b[43m(\u001b[49m\u001b[43moutput\u001b[49m\u001b[43m[\u001b[49m\u001b[38;5;124;43m\"\u001b[39;49m\u001b[38;5;124;43mresults\u001b[39;49m\u001b[38;5;124;43m\"\u001b[39;49m\u001b[43m]\u001b[49m\u001b[43m[\u001b[49m\u001b[38;5;241;43m0\u001b[39;49m\u001b[43m]\u001b[49m\u001b[43m)\u001b[49m\n",
      "File \u001b[0;32m/usr/local/lib/python3.12/site-packages/qsharp/estimator/_estimator.py:554\u001b[0m, in \u001b[0;36mEstimatorResult.__init__\u001b[0;34m(self, data)\u001b[0m\n\u001b[1;32m    552\u001b[0m     data \u001b[38;5;241m=\u001b[39m data[\u001b[38;5;241m0\u001b[39m]\n\u001b[1;32m    553\u001b[0m     \u001b[38;5;28;01mif\u001b[39;00m \u001b[38;5;129;01mnot\u001b[39;00m EstimatorResult\u001b[38;5;241m.\u001b[39m_is_succeeded(data):\n\u001b[0;32m--> 554\u001b[0m         \u001b[38;5;28;01mraise\u001b[39;00m EstimatorError(data[\u001b[38;5;124m\"\u001b[39m\u001b[38;5;124mcode\u001b[39m\u001b[38;5;124m\"\u001b[39m], data[\u001b[38;5;124m\"\u001b[39m\u001b[38;5;124mmessage\u001b[39m\u001b[38;5;124m\"\u001b[39m])\n\u001b[1;32m    556\u001b[0m \u001b[38;5;28;01mif\u001b[39;00m \u001b[38;5;28misinstance\u001b[39m(data, \u001b[38;5;28mdict\u001b[39m):\n\u001b[1;32m    557\u001b[0m     \u001b[38;5;28mself\u001b[39m\u001b[38;5;241m.\u001b[39m_data \u001b[38;5;241m=\u001b[39m data\n",
      "\u001b[0;31mEstimatorError\u001b[0m: Error estimating resources (Qsc.Estimates.AlgorithmHasNoResources):\nAlgorithm requires at least one magic state or measurement to estimate resources"
     ]
    }
   ],
   "source": [
    "for i in [5,10,20,30,40,50,60]:\n",
    "    circuit =generate_circ(num_qubits=i, circuit_type='qft', seed=42)\n",
    "    # Specify settings for the cut-finding optimizer\n",
    "    optimization_settings = OptimizationParameters(seed=111)\n",
    "\n",
    "    # Specify the size of the QPUs available\n",
    "    device_constraints = DeviceConstraints(qubits_per_subcircuit=circuit.num_qubits//2)\n",
    "\n",
    "    cut_circuits, metadata = find_cuts(circuit, optimization_settings, device_constraints)\n",
    "    \n",
    "    qc_w_ancilla = cut_wires(cut_circuits)\n",
    "    partitioned_problem = partition_problem(circuit=qc_w_ancilla)\n",
    "    subcircuit= partitioned_problem.subcircuits\n",
    "    subcircuits = [cuts_filter(s) for s in subcircuit.values()]\n",
    "\n",
    "    params = EstimatorParams()\n",
    "    params.error_budget = 0.001\n",
    "    params.constraints.max_t_factories = 1\n",
    "    backend = ResourceEstimatorBackend()\n",
    "    job = backend.run(circuit, params)\n",
    "    r = job.result()\n",
    "    Q = r['physicalCounts']['physicalQubits']\n",
    "    T = r['physicalCounts']['runtime']*1e-9\n",
    "    \n",
    "    total_partition = [c.num_qubits for c in subcircuits]\n",
    "    error_buget = [0.001*p/sum(total_partition) for p in total_partition]\n",
    "    r = []\n",
    "    r_even = []\n",
    "    for idx, s in enumerate(subcircuits):\n",
    "        # params = estimator.make_params(num_items=1)\n",
    "        # params.constraints.max_t_factories = 1\n",
    "        # params.error_budget = error_buget[idx]\n",
    "        # job = estimator.submit(s, input_params=params)\n",
    "\n",
    "        params = EstimatorParams()\n",
    "        params.error_budget = error_buget[idx]\n",
    "        params.constraints.max_t_factories = 1\n",
    "        backend = ResourceEstimatorBackend()\n",
    "        job = backend.run(s, params)    \n",
    "        r.append(job.result()['physicalCounts']['physicalQubits'])\n",
    "    for idx, s in enumerate(subcircuits):\n",
    "        params = EstimatorParams()\n",
    "        params.error_budget = 0.0005\n",
    "        params.constraints.max_t_factories = 1\n",
    "        backend = ResourceEstimatorBackend()\n",
    "        job = backend.run(s, params)    \n",
    "        r_even.append(job.result()['physicalCounts']['physicalQubits'])\n",
    "    print(max(r_even)/Q-max(r)/Q)"
   ]
  },
  {
   "cell_type": "code",
   "execution_count": 2,
   "metadata": {},
   "outputs": [
    {
     "name": "stdout",
     "output_type": "stream",
     "text": [
      "Found solution using 7 cuts with a sampling overhead of 459.58000669210037 and classical runtime 459.58000669210037.\n",
      "Lowest cost solution found: True.\n"
     ]
    }
   ],
   "source": [
    "from qiskit_addon_cutting.automated_cut_finding import (\n",
    "    find_cuts,\n",
    "    OptimizationParameters,\n",
    "    DeviceConstraints,\n",
    ")\n",
    "circuit6 = generate_circ(num_qubits=6, circuit_type='qft', seed=42)\n",
    "# Specify settings for the cut-finding optimizer\n",
    "optimization_settings = OptimizationParameters(seed=111)\n",
    "\n",
    "# Specify the size of the QPUs available\n",
    "device_constraints = DeviceConstraints(qubits_per_subcircuit=4)\n",
    "\n",
    "cut_circuits, metadata = find_cuts(circuit6, optimization_settings, device_constraints)\n",
    "print(\n",
    "    f'Found solution using {len(metadata[\"cuts\"])} cuts with a sampling '\n",
    "    f'overhead of {metadata[\"sampling_overhead\"]} and classical runtime {metadata[\"sampling_overhead\"]}.\\n'\n",
    "    f'Lowest cost solution found: {metadata[\"minimum_reached\"]}.'\n",
    ")"
   ]
  },
  {
   "cell_type": "code",
   "execution_count": 3,
   "metadata": {},
   "outputs": [],
   "source": [
    "from qiskit_addon_cutting import cut_wires,partition_problem\n",
    "qc_w_ancilla = cut_wires(cut_circuits)\n",
    "partitioned_problem = partition_problem(circuit=qc_w_ancilla)\n",
    "subcircuit= partitioned_problem.subcircuits\n",
    "subcircuits = [cuts_filter(s) for s in subcircuit.values()]"
   ]
  },
  {
   "cell_type": "code",
   "execution_count": 15,
   "metadata": {},
   "outputs": [
    {
     "data": {
      "image/png": "[encoded data removed]",
      "text/plain": [
       "<Figure size 696.235x183.944 with 1 Axes>"
      ]
     },
     "execution_count": 15,
     "metadata": {},
     "output_type": "execute_result"
    }
   ],
   "source": [
    "subcircuits[0].draw(\"mpl\", style=\"iqp\", scale=0.5)"
   ]
  },
  {
   "cell_type": "code",
   "execution_count": 2,
   "metadata": {},
   "outputs": [
    {
     "data": {
      "application/javascript": "// Copyright (c) Microsoft Corporation.\n// Licensed under the MIT License.\n\n// This file provides CodeMirror syntax highlighting for Q# magic cells\n// in classic Jupyter Notebooks. It does nothing in other (Jupyter Notebook 7,\n// VS Code, Azure Notebooks, etc.) environments.\n\n// Detect the prerequisites and do nothing if they don't exist.\nif (window.require && window.CodeMirror && window.Jupyter) {\n  // The simple mode plugin for CodeMirror is not loaded by default, so require it.\n  window.require([\"codemirror/addon/mode/simple\"], function defineMode() {\n    let rules = [\n      {\n        token: \"comment\",\n        regex: /(\\/\\/).*/,\n        beginWord: false,\n      },\n      {\n        token: \"string\",\n        regex: String.raw`^\\\"(?:[^\\\"\\\\]|\\\\[\\s\\S])*(?:\\\"|$)`,\n        beginWord: false,\n      },\n      {\n        token: \"keyword\",\n        regex: String.raw`(namespace|open|as|operation|function|body|adjoint|newtype|controlled|internal)\\b`,\n        beginWord: true,\n      },\n      {\n        token: \"keyword\",\n        regex: String.raw`(if|elif|else|repeat|until|fixup|for|in|return|fail|within|apply)\\b`,\n        beginWord: true,\n      },\n      {\n        token: \"keyword\",\n        regex: String.raw`(Adjoint|Controlled|Adj|Ctl|is|self|auto|distribute|invert|intrinsic)\\b`,\n        beginWord: true,\n      },\n      {\n        token: \"keyword\",\n        regex: String.raw`(let|set|use|borrow|mutable)\\b`,\n        beginWord: true,\n      },\n      {\n        token: \"operatorKeyword\",\n        regex: String.raw`(not|and|or)\\b|(w/)`,\n        beginWord: true,\n      },\n      {\n        token: \"operatorKeyword\",\n        regex: String.raw`(=)|(!)|(<)|(>)|(\\+)|(-)|(\\*)|(/)|(\\^)|(%)|(\\|)|(&&&)|(~~~)|(\\.\\.\\.)|(\\.\\.)|(\\?)`,\n        beginWord: false,\n      },\n      {\n        token: \"meta\",\n        regex: String.raw`(Int|BigInt|Double|Bool|Qubit|Pauli|Result|Range|String|Unit)\\b`,\n        beginWord: true,\n      },\n      {\n        token: \"atom\",\n        regex: String.raw`(true|false|Pauli(I|X|Y|Z)|One|Zero)\\b`,\n        beginWord: true,\n      },\n    ];\n    let simpleRules = [];\n    for (let rule of rules) {\n      simpleRules.push({\n        token: rule.token,\n        regex: new RegExp(rule.regex, \"g\"),\n        sol: rule.beginWord,\n      });\n      if (rule.beginWord) {\n        // Need an additional rule due to the fact that CodeMirror simple mode doesn't work with ^ token\n        simpleRules.push({\n          token: rule.token,\n          regex: new RegExp(String.raw`\\W` + rule.regex, \"g\"),\n          sol: false,\n        });\n      }\n    }\n\n    // Register the mode defined above with CodeMirror\n    window.CodeMirror.defineSimpleMode(\"qsharp\", { start: simpleRules });\n    window.CodeMirror.defineMIME(\"text/x-qsharp\", \"qsharp\");\n\n    // Tell Jupyter to associate %%qsharp magic cells with the qsharp mode\n    window.Jupyter.CodeCell.options_default.highlight_modes[\"qsharp\"] = {\n      reg: [/^%%qsharp/],\n    };\n\n    // Force re-highlighting of all cells the first time this code runs\n    for (const cell of window.Jupyter.notebook.get_cells()) {\n      cell.auto_highlight();\n    }\n  });\n}\n",
      "text/plain": []
     },
     "metadata": {},
     "output_type": "display_data"
    },
    {
     "name": "stdout",
     "output_type": "stream",
     "text": [
      "\n",
      " total physical qubits required:  50180 \n",
      " total runtime 0.6692400000000001\n"
     ]
    }
   ],
   "source": [
    "from qsharp.estimator import EstimatorParams\n",
    "from qsharp.interop.qiskit import ResourceEstimatorBackend\n",
    "params = EstimatorParams()\n",
    "params.error_budget = 0.01\n",
    "params.constraints.max_t_factories = 1\n",
    "backend = ResourceEstimatorBackend()\n",
    "circuit = build_lattice_hamiltonian(num_spins=6**2, Dimension=(6,6), model='Ising')\n",
    "job = backend.run(circuit, params)\n",
    "r = job.result()\n",
    "Q = r['physicalCounts']['physicalQubits']\n",
    "T = r['physicalCounts']['runtime']*1e-9\n",
    "print('\\n', 'total physical qubits required: ', Q, '\\n', 'total runtime', T)"
   ]
  },
  {
   "cell_type": "code",
   "execution_count": 6,
   "metadata": {},
   "outputs": [
    {
     "name": "stdout",
     "output_type": "stream",
     "text": [
      "0.8931095406360424\n"
     ]
    }
   ],
   "source": [
    "params1 = EstimatorParams()\n",
    "params2 = EstimatorParams()\n",
    "params1.constraints.max_t_factories = 1\n",
    "params2.constraints.max_t_factories = 1\n",
    "\n",
    "params1.error_budget = 0.005\n",
    "job1 = backend.run(subcircuit[0], params1)\n",
    "r1 = job1.result()\n",
    "params2.error_budget = 0.005\n",
    "job2 = backend.run(subcircuit[1], params2)\n",
    "r2 = job2.result()\n",
    "print(max(r1['physicalCounts']['physicalQubits'],r2['physicalCounts']['physicalQubits'])/Q)"
   ]
  },
  {
   "cell_type": "code",
   "execution_count": 7,
   "metadata": {},
   "outputs": [],
   "source": [
    "partition = list(accel_asc(20))\n",
    "sub_part = []\n",
    "for p in partition:\n",
    "    if len(p) == 2:\n",
    "        sub_part.append(list(p))\n",
    "sub_parts = []\n",
    "for s in sub_part:\n",
    "    for l in permutations(s):\n",
    "        sub_parts.append(l)\n",
    "e = list(set(sub_parts))"
   ]
  },
  {
   "cell_type": "code",
   "execution_count": 11,
   "metadata": {},
   "outputs": [
    {
     "data": {
      "image/png": "[encoded data removed]",
      "text/plain": [
       "<Figure size 640x480 with 1 Axes>"
      ]
     },
     "metadata": {},
     "output_type": "display_data"
    }
   ],
   "source": [
    "params1 = EstimatorParams()\n",
    "params2 = EstimatorParams()\n",
    "params1.constraints.max_t_factories = 1\n",
    "params2.constraints.max_t_factories = 1\n",
    "\n",
    "q = []\n",
    "t1 = []  \n",
    "t2 = []\n",
    "for e1, e2 in e:\n",
    "    params1.error_budget = e1/2e3\n",
    "    job1 = backend.run(subcircuit[0], params1)\n",
    "    r1 = job1.result()\n",
    "    params2.error_budget = e2/2e3\n",
    "    job2 = backend.run(subcircuit[1], params2)\n",
    "    r2 = job2.result()\n",
    "    q.append(max(r1['physicalCounts']['physicalQubits'],r2['physicalCounts']['physicalQubits']))\n",
    "    t1.append(r1['physicalCounts']['runtime']*1e-9)\n",
    "    t2.append(r2['physicalCounts']['runtime']*1e-9)\n",
    "    # print('\\n', 'subcircuit-1 : physical qubits--', r1['physicalCounts']['physicalQubits'], 'runtime (in microsec)--', r1['physicalCounts']['runtime']*1e-3)\n",
    "    # print('\\n', 'subcircuit-2 : physical qubits--', r2['physicalCounts']['physicalQubits'], 'runtime (in microsec)--', r2['physicalCounts']['runtime']*1e-3)\n",
    "\n",
    "plt.scatter([5*e1 for (e1,e2) in e], [i/Q for i in q], label='subcircuits')\n",
    "plt.plot([0, 100], [1, 1], 'r--', label='original circuit')\n",
    "plt.legend()\n",
    "plt.xlabel('Error budget portion for the first subcircuit')\n",
    "plt.ylabel('Number of Physical qubits required')\n",
    "plt.show()\n"
   ]
  },
  {
   "cell_type": "code",
   "execution_count": 14,
   "metadata": {},
   "outputs": [
    {
     "data": {
      "text/plain": [
       "[85, 40, 45, 80, 75, 30, 35, 70, 25, 65, 60, 20, 95, 15, 55, 50, 10, 90, 5]"
      ]
     },
     "execution_count": 14,
     "metadata": {},
     "output_type": "execute_result"
    }
   ],
   "source": [
    "[5*e1 for (e1,e2) in e]"
   ]
  },
  {
   "cell_type": "code",
   "execution_count": 9,
   "metadata": {},
   "outputs": [
    {
     "data": {
      "text/plain": [
       "[0.8289752650176678,\n",
       " 0.8931095406360424,\n",
       " 0.8931095406360424,\n",
       " 0.8289752650176678,\n",
       " 0.8289752650176678,\n",
       " 0.8931095406360424,\n",
       " 0.8931095406360424,\n",
       " 0.8931095406360424,\n",
       " 0.8931095406360424,\n",
       " 0.8931095406360424,\n",
       " 0.8931095406360424,\n",
       " 0.8931095406360424,\n",
       " 1.1438162544169612,\n",
       " 1.3351590106007067,\n",
       " 0.8931095406360424,\n",
       " 0.8931095406360424,\n",
       " 1.0203180212014133,\n",
       " 0.8289752650176678,\n",
       " 1.3030035335689045]"
      ]
     },
     "execution_count": 9,
     "metadata": {},
     "output_type": "execute_result"
    }
   ],
   "source": [
    "[i/Q for i in q]"
   ]
  },
  {
   "cell_type": "code",
   "execution_count": 12,
   "metadata": {},
   "outputs": [
    {
     "data": {
      "text/plain": [
       "[0.0042592,\n",
       " 0.005478,\n",
       " 0.005478,\n",
       " 0.0042592,\n",
       " 0.0042592,\n",
       " 0.005478,\n",
       " 0.005478,\n",
       " 0.005478,\n",
       " 0.005478,\n",
       " 0.005478,\n",
       " 0.005478,\n",
       " 0.0059004,\n",
       " 0.003933600000000001,\n",
       " 0.0057824,\n",
       " 0.005478,\n",
       " 0.005478,\n",
       " 0.005896800000000001,\n",
       " 0.003933600000000001,\n",
       " 0.0077220000000000006]"
      ]
     },
     "execution_count": 12,
     "metadata": {},
     "output_type": "execute_result"
    }
   ],
   "source": [
    "t1"
   ]
  },
  {
   "cell_type": "code",
   "execution_count": 13,
   "metadata": {},
   "outputs": [
    {
     "data": {
      "text/plain": [
       "[0.0019668000000000003,\n",
       " 0.001422,\n",
       " 0.001422,\n",
       " 0.0019668000000000003,\n",
       " 0.0019668000000000003,\n",
       " 0.001422,\n",
       " 0.001422,\n",
       " 0.0012232,\n",
       " 0.001422,\n",
       " 0.00143,\n",
       " 0.0012024000000000002,\n",
       " 0.001422,\n",
       " 0.0017820000000000002,\n",
       " 0.001422,\n",
       " 0.001422,\n",
       " 0.001422,\n",
       " 0.001422,\n",
       " 0.0019668000000000003,\n",
       " 0.001422]"
      ]
     },
     "execution_count": 13,
     "metadata": {},
     "output_type": "execute_result"
    }
   ],
   "source": [
    "t2"
   ]
  }
 ],
 "metadata": {
  "kernelspec": {
   "display_name": "Python 3",
   "language": "python",
   "name": "python3"
  },
  "language_info": {
   "codemirror_mode": {
    "name": "ipython",
    "version": 3
   },
   "file_extension": ".py",
   "mimetype": "text/x-python",
   "name": "python",
   "nbconvert_exporter": "python",
   "pygments_lexer": "ipython3",
   "version": "3.12.5"
  }
 },
 "nbformat": 4,
 "nbformat_minor": 2
}
