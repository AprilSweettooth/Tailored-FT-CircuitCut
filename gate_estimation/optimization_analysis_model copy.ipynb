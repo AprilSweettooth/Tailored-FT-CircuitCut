{
 "cells": [
  {
   "cell_type": "code",
   "execution_count": null,
   "metadata": {},
   "outputs": [],
   "source": [
    "import numpy as np\n",
    "import matplotlib.pyplot as plt\n",
    "\n",
    "from circuit_knitting.cutting.automated_cut_finding import (\n",
    "    find_cuts,\n",
    "    OptimizationParameters,\n",
    "    DeviceConstraints,\n",
    ")\n",
    "from circuit_knitting.cutting import cut_wires, partition_problem\n",
    "\n",
    "from qiskit import transpile\n",
    "\n",
    "from resource_analysis import *\n",
    "from optimization_utils import *\n",
    "from benchmarks import *\n",
    "\n",
    "from azure.quantum import Workspace\n",
    "from azure.quantum.target.microsoft import MicrosoftEstimator, ErrorBudgetPartition\n",
    "\n",
    "workspace = Workspace (\n",
    "   resource_id = \"/subscriptions/e0d51919-2dda-4b7e-a8e7-77cc18580acb/resourceGroups/AzureQuantum/providers/Microsoft.Quantum/Workspaces/QECBenchmarking\",\n",
    "   location = \"uksouth\"\n",
    ")\n",
    "\n",
    "estimator = MicrosoftEstimator(workspace)"
   ]
  },
  {
   "cell_type": "code",
   "execution_count": null,
   "metadata": {},
   "outputs": [],
   "source": [
    "circuit = generate_circ(num_qubits=10, depth=10, circuit_type='uccd', reg_name='q', connected_only=False, seed=1)"
   ]
  },
  {
   "cell_type": "code",
   "execution_count": null,
   "metadata": {},
   "outputs": [],
   "source": [
    "circuit.decompose(reps=1).draw()"
   ]
  },
  {
   "cell_type": "code",
   "execution_count": null,
   "metadata": {},
   "outputs": [],
   "source": [
    "# Specify settings for the cut-finding optimizer\n",
    "optimization_settings = OptimizationParameters(seed=111)\n",
    "\n",
    "# Specify the size of the QPUs available\n",
    "device_constraints = DeviceConstraints(qubits_per_subcircuit=5)\n",
    "\n",
    "cut_circuit, metadata = find_cuts(circuit, optimization_settings, device_constraints)\n",
    "print(\n",
    "    f'Found solution using {len(metadata[\"cuts\"])} cuts with a sampling '\n",
    "    f'overhead of {metadata[\"sampling_overhead\"]}.'\n",
    ")\n",
    "# for cut in metadata[\"cuts\"]:\n",
    "#     print(f\"{cut[0]} at circuit instruction index {cut[1]}\")\n",
    "# cut_circuit.draw(\"mpl\", scale=0.8, fold=-1)"
   ]
  },
  {
   "cell_type": "code",
   "execution_count": null,
   "metadata": {},
   "outputs": [],
   "source": [
    "qc_w_ancilla = cut_wires(cut_circuit)\n",
    "partitioned_problem = partition_problem(circuit=qc_w_ancilla)\n",
    "subcircuit = partitioned_problem.subcircuits\n",
    "subcircuits = [cuts_filter(s) for s in subcircuit.values()]\n",
    "# subcircuits[0].draw(\"mpl\", style=\"iqp\", scale=0.5)"
   ]
  },
  {
   "cell_type": "code",
   "execution_count": null,
   "metadata": {},
   "outputs": [],
   "source": [
    "# subcircuits[1].draw(\"mpl\", style=\"iqp\", scale=0.5)"
   ]
  },
  {
   "cell_type": "code",
   "execution_count": null,
   "metadata": {},
   "outputs": [],
   "source": [
    "params = estimator.make_params(num_items=1)\n",
    "params.error_budget = 0.01\n",
    "params.constraints.max_t_factories = 1\n",
    "job = estimator.submit(circuit, input_params=params)\n",
    "r = job.get_results()\n",
    "Q = r['physicalCounts']['physicalQubits']\n",
    "T = r['physicalCounts']['runtime']*1e-3\n",
    "print('\\n', 'total physical qubits required: ', Q, '\\n', 'total runtime', T)\n",
    "# total physical qubits required:  8276 \n",
    "# total runtime 3498.0"
   ]
  },
  {
   "cell_type": "code",
   "execution_count": null,
   "metadata": {},
   "outputs": [],
   "source": [
    "target_basis = ['rx', 'ry', 'rz', 'h', 'cx']\n",
    "circuit = transpile(circuit,\n",
    "                    basis_gates=target_basis, \n",
    "                    optimization_level=1) "
   ]
  },
  {
   "cell_type": "code",
   "execution_count": null,
   "metadata": {},
   "outputs": [],
   "source": [
    "for idx, s in enumerate(subcircuits):\n",
    "    subcircuits[idx] = transpile(s,\n",
    "                        basis_gates=target_basis, \n",
    "                        optimization_level=1) "
   ]
  },
  {
   "cell_type": "code",
   "execution_count": null,
   "metadata": {},
   "outputs": [],
   "source": [
    "Q_approx = PhysicalParameters.make_beverland_et_al(circuit, error_budget=[0.01/3]*3).Q\n",
    "q = []\n",
    "sub_error_budget = [(0.01/20*e, 0.01-0.01/20*e) for e in range(1,20)]\n",
    "for (e1, e2) in sub_error_budget:\n",
    "    Q1 = PhysicalParameters.make_beverland_et_al(subcircuits[0], error_budget = [e1/3]*3).Q\n",
    "    Q2 = PhysicalParameters.make_beverland_et_al(subcircuits[1], error_budget = [e2/3]*3).Q \n",
    "    q.append(max(Q1, Q2))\n",
    "\n",
    "plt.scatter([e1 for (e1,e2) in sub_error_budget], q, label='subcircuits')\n",
    "plt.plot([0, 0.01], [Q_approx, Q_approx], 'r--', label='original circuit')\n",
    "plt.legend()\n",
    "plt.xlabel('Error budget for the first subcircuit')\n",
    "plt.ylabel('Number of Physical qubits')\n",
    "plt.show()\n"
   ]
  },
  {
   "cell_type": "code",
   "execution_count": null,
   "metadata": {},
   "outputs": [],
   "source": [
    "Q_approx = PhysicalParameters.make_beverland_et_al(circuit, error_budget=[0.01/3]*3).Q\n",
    "q = []\n",
    "sub_error1 = []\n",
    "# sol = {}\n",
    "sol_q = Q_approx\n",
    "sol_e = None\n",
    "partition = error_budget_partition(0.01, len(subcircuits)*3)\n",
    "sub_error_budget = partition + [l[::-1] for l in partition]\n",
    "for e in sub_error_budget:\n",
    "    Q1 = PhysicalParameters.make_beverland_et_al(subcircuits[0], error_budget = [i/5000 for i in e[:3]]).Q\n",
    "    Q2 = PhysicalParameters.make_beverland_et_al(subcircuits[1], error_budget = [i/5000 for i in e[3:]]).Q \n",
    "    m = max(Q1, Q2)\n",
    "    q.append(m)\n",
    "    sub_error1.append(sum(e[:3])/5000)\n",
    "    if sol_q > m:\n",
    "        sol_q = m\n",
    "        sol_e = e\n",
    "        \n",
    "print(sol_q, sol_e)\n",
    "plt.scatter(sub_error1, q, label='subcircuits')\n",
    "plt.plot([0, 0.01], [Q_approx, Q_approx], 'r--', label='original circuit')\n",
    "plt.legend()\n",
    "# plt.ylim([min(q)-1000, Q_approx+1000])\n",
    "plt.xlabel('Error budget for the first subcircuit')\n",
    "plt.ylabel('Number of Physical qubits')\n",
    "plt.show()\n"
   ]
  },
  {
   "cell_type": "code",
   "execution_count": null,
   "metadata": {},
   "outputs": [],
   "source": [
    "params1 = estimator.make_params(num_items=1)\n",
    "params2 = estimator.make_params(num_items=1)\n",
    "params1.items[0].constraints.max_t_factories = 1\n",
    "params2.items[0].constraints.max_t_factories = 1\n",
    "# params1.items[1].constraints.max_t_factories = 2\n",
    "# params2.items[1].constraints.max_t_factories = 2\n",
    "\n",
    "params1.error_budget = ErrorBudgetPartition(sol_e[0]/5000, sol_e[1]/5000, sol_e[2]/5000) \n",
    "params2.error_budget = ErrorBudgetPartition(sol_e[3]/5000, sol_e[4]/5000, sol_e[5]/5000) \n",
    "\n",
    "job1 = estimator.submit(subcircuit[0], input_params=params1)\n",
    "r1 = job1.get_results()\n",
    "job2 = estimator.submit(subcircuit[1], input_params=params2)\n",
    "r2 = job2.get_results()\n",
    "\n",
    "print('\\n', 'subcircuit-1 : physical qubits--', r1['physicalCounts']['physicalQubits'], 'runtime (in microsec)--', r1['physicalCounts']['runtime']*1e-3)\n",
    "print('\\n', 'subcircuit-2 : physical qubits--', r2['physicalCounts']['physicalQubits'], 'runtime (in microsec)--', r2['physicalCounts']['runtime']*1e-3)"
   ]
  },
  {
   "cell_type": "code",
   "execution_count": null,
   "metadata": {},
   "outputs": [],
   "source": [
    "classical_runtime = metadata[\"sampling_overhead\"]/1e14\n",
    "quantum_runtime = r1['physicalCounts']['runtime']*1e-3 + r2['physicalCounts']['runtime']*1e-3\n",
    "print(classical_runtime/86400, quantum_runtime*1e-6)"
   ]
  }
 ],
 "metadata": {
  "kernelspec": {
   "display_name": "Python 3",
   "language": "python",
   "name": "python3"
  },
  "language_info": {
   "codemirror_mode": {
    "name": "ipython",
    "version": 3
   },
   "file_extension": ".py",
   "mimetype": "text/x-python",
   "name": "python",
   "nbconvert_exporter": "python",
   "pygments_lexer": "ipython3",
   "version": "3.12.5"
  }
 },
 "nbformat": 4,
 "nbformat_minor": 2
}
