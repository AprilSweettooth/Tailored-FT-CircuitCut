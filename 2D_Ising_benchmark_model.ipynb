{
 "cells": [
  {
   "cell_type": "code",
   "execution_count": 1,
   "metadata": {},
   "outputs": [],
   "source": [
    "from benchmark_2D_Ising import *\n",
    "from Shor_Normal_QFT import *"
   ]
  },
  {
   "cell_type": "code",
   "execution_count": 2,
   "metadata": {},
   "outputs": [],
   "source": [
    "# circuit = generate_circ(num_qubits=50, circuit_type='qft', reg_name='q', connected_only=False, seed=1)"
   ]
  },
  {
   "cell_type": "code",
   "execution_count": 2,
   "metadata": {},
   "outputs": [
    {
     "name": "stdout",
     "output_type": "stream",
     "text": [
      "Not an easy case, using the quantum circuit is necessary\n",
      "\n",
      "Using 2 as value for a\n",
      "\n",
      "Forcing N=15 and a=4 because its the fastest case, please read top of source file for more info\n",
      "Total number of qubits used: 26\n",
      "\n"
     ]
    }
   ],
   "source": [
    "shor_circ = shor_factoring(33)"
   ]
  },
  {
   "cell_type": "code",
   "execution_count": 3,
   "metadata": {},
   "outputs": [],
   "source": [
    "from qiskit_addon_cutting_custom.automated_cut_finding import *\n",
    "from qiskit_addon_cutting_custom import *"
   ]
  },
  {
   "cell_type": "code",
   "execution_count": 5,
   "metadata": {},
   "outputs": [
    {
     "name": "stdout",
     "output_type": "stream",
     "text": [
      "max no. of qubit per subcircuit:  13\n",
      "623 cuts (0 gate 623 wire cuts)\n"
     ]
    }
   ],
   "source": [
    "optimization_settings = OptimizationParameters(seed=111, gate_lo=False) \n",
    "target_basis = ['rx', 'ry', 'rz', 'h', 'cx']\n",
    "shor_circ = transpile(shor_circ,\n",
    "                    basis_gates=target_basis, \n",
    "                    optimization_level=1) \n",
    "device_constraints = DeviceConstraints(qubits_per_subcircuit=int(np.floor(shor_circ.num_qubits*0.5)))\n",
    "print('max no. of qubit per subcircuit: ', int(np.floor(shor_circ.num_qubits*0.5)))\n",
    "cut_circuit, metadata = find_cuts(shor_circ, optimization_settings, device_constraints)\n",
    "print(\n",
    "    f'{len(metadata[\"cuts\"])} cuts ({len(metadata[\"gate_cuts\"])} gate {len(metadata[\"wire_cuts\"])} wire cuts)'\n",
    ")"
   ]
  },
  {
   "cell_type": "code",
   "execution_count": 5,
   "metadata": {},
   "outputs": [
    {
     "data": {
      "text/plain": [
       "<qiskit.circuit.quantumcircuit.QuantumCircuit at 0x204d6cc50>"
      ]
     },
     "execution_count": 5,
     "metadata": {},
     "output_type": "execute_result"
    }
   ],
   "source": [
    "cut_circuit"
   ]
  },
  {
   "cell_type": "code",
   "execution_count": 9,
   "metadata": {},
   "outputs": [
    {
     "data": {
      "text/plain": [
       "OrderedDict([('cu', 23250),\n",
       "             ('cx', 6336),\n",
       "             ('h', 4392),\n",
       "             ('u', 1008),\n",
       "             ('x', 289),\n",
       "             ('cswap', 72),\n",
       "             ('measure', 12),\n",
       "             ('swap', 6)])"
      ]
     },
     "execution_count": 9,
     "metadata": {},
     "output_type": "execute_result"
    }
   ],
   "source": [
    "shor_circ.count_ops()"
   ]
  },
  {
   "cell_type": "code",
   "execution_count": null,
   "metadata": {},
   "outputs": [],
   "source": [
    "shor_circ.depth()"
   ]
  },
  {
   "cell_type": "code",
   "execution_count": null,
   "metadata": {},
   "outputs": [],
   "source": [
    "shor_circ.draw('mpl', fold=-1)"
   ]
  },
  {
   "cell_type": "code",
   "execution_count": null,
   "metadata": {},
   "outputs": [],
   "source": [
    "data = run(ratio_list=[0.5, 0.7, 0.9], lattice_size=range(3,7))"
   ]
  },
  {
   "cell_type": "code",
   "execution_count": 4,
   "metadata": {},
   "outputs": [],
   "source": [
    "# import json\n",
    "\n",
    "# with open('2D_Ising_data.json', 'w') as fp:\n",
    "#     json.dump(data, fp)\n",
    "\n",
    "# with open('data.json', 'r') as fp:\n",
    "#     data = json.load(fp)"
   ]
  }
 ],
 "metadata": {
  "kernelspec": {
   "display_name": "Python 3",
   "language": "python",
   "name": "python3"
  },
  "language_info": {
   "codemirror_mode": {
    "name": "ipython",
    "version": 3
   },
   "file_extension": ".py",
   "mimetype": "text/x-python",
   "name": "python",
   "nbconvert_exporter": "python",
   "pygments_lexer": "ipython3",
   "version": "3.12.5"
  }
 },
 "nbformat": 4,
 "nbformat_minor": 2
}
