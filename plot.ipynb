{
 "cells": [
  {
   "cell_type": "code",
   "execution_count": 1,
   "metadata": {},
   "outputs": [],
   "source": [
    "# import json\n",
    "\n",
    "# with open('2D_Ising_data_max_T_facotries.json', 'r') as fp:\n",
    "#     data_T = json.load(fp)"
   ]
  },
  {
   "cell_type": "code",
   "execution_count": 2,
   "metadata": {},
   "outputs": [],
   "source": [
    "# data_T['2']['Ising3 by 3'].keys()"
   ]
  },
  {
   "cell_type": "code",
   "execution_count": 3,
   "metadata": {},
   "outputs": [],
   "source": [
    "# visualize the optimization process\n",
    "import numpy as np\n",
    "import matplotlib.pyplot as plt\n",
    "\n",
    "# size = range(3,7)\n",
    "\n",
    "# qubits_reduction = [[],[],[],[]]\n",
    "# for idx, t in enumerate(qubits_reduction):\n",
    "#     for s in size:\n",
    "#         t.append(data_T[str(2+idx)]['Ising'+str(s)+' by '+str(s)]['runtime_after_cutting']-data_T[str(2+idx)]['Ising'+str(s)+' by '+str(s)]['overall_physical_qubits'])\n",
    "\n",
    "# plt.xlabel('lattice size')\n",
    "# plt.ylabel('Physical qubits reduction after cutting')\n",
    "# labels = ['3x3','4x4','5x5','6x6']\n",
    "# for idx, t in enumerate(qubits_reduction):\n",
    "#     plt.plot(size, t, label='max_T_factories='+str(2+idx))\n",
    "# plt.xticks(range(3,7), labels)\n",
    "# plt.legend()\n",
    "# plt.show()"
   ]
  },
  {
   "cell_type": "code",
   "execution_count": 4,
   "metadata": {},
   "outputs": [],
   "source": [
    "# cuts = [[],[],[],[]]\n",
    "# for idx, c in enumerate(cuts):\n",
    "#     for s in size:\n",
    "#         c.append(data_T[str(2+idx)]['Ising'+str(s)+' by '+str(s)]['gate_cuts'])\n",
    "\n",
    "# plt.xlabel('lattice size')\n",
    "# plt.ylabel('Number of cuts')\n",
    "# labels = ['3x3','4x4','5x5','6x6']\n",
    "# for idx, c in enumerate(cuts):\n",
    "#     plt.plot(size, c, label='max_T_factories='+str(2+idx))\n",
    "# plt.xticks(range(3,7), labels)\n",
    "# plt.legend()\n",
    "# plt.show()"
   ]
  },
  {
   "cell_type": "code",
   "execution_count": 5,
   "metadata": {},
   "outputs": [],
   "source": [
    "import json\n",
    "\n",
    "with open('all_data_trotter_2D_Ising.json', 'r') as fp:\n",
    "    data_all = json.load(fp)"
   ]
  },
  {
   "cell_type": "code",
   "execution_count": 11,
   "metadata": {},
   "outputs": [
    {
     "data": {
      "text/plain": [
       "10580"
      ]
     },
     "execution_count": 11,
     "metadata": {},
     "output_type": "execute_result"
    }
   ],
   "source": [
    "data_all['Ising6 by 6']['11']['gate_cuts']"
   ]
  },
  {
   "cell_type": "code",
   "execution_count": 6,
   "metadata": {},
   "outputs": [],
   "source": [
    "# size = range(3,7)\n",
    "\n",
    "# qubits_reduction = [[],[],[],[]]\n",
    "# for idx, t in enumerate(qubits_reduction):\n",
    "#     for s in size:\n",
    "#         t.append(data_T[str(2+idx)]['Ising'+str(s)+' by '+str(s)]['runtime_after_cutting']-data_T[str(2+idx)]['Ising'+str(s)+' by '+str(s)]['overall_physical_qubits'])\n",
    "\n",
    "# plt.xlabel('lattice size')\n",
    "# plt.ylabel('Physical qubits reduction after cutting')\n",
    "# labels = ['3x3','4x4','5x5','6x6']\n",
    "# for idx, t in enumerate(qubits_reduction):\n",
    "#     plt.plot(size, t, label='max_T_factories='+str(2+idx))\n",
    "# plt.xticks(range(3,7), labels)\n",
    "# plt.legend()\n",
    "# plt.show"
   ]
  }
 ],
 "metadata": {
  "kernelspec": {
   "display_name": "Python 3",
   "language": "python",
   "name": "python3"
  },
  "language_info": {
   "codemirror_mode": {
    "name": "ipython",
    "version": 3
   },
   "file_extension": ".py",
   "mimetype": "text/x-python",
   "name": "python",
   "nbconvert_exporter": "python",
   "pygments_lexer": "ipython3",
   "version": "3.12.5"
  }
 },
 "nbformat": 4,
 "nbformat_minor": 2
}
