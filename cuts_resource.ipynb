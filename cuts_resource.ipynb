{
 "cells": [
  {
   "cell_type": "code",
   "execution_count": 1,
   "metadata": {},
   "outputs": [],
   "source": [
    "import numpy as np\n",
    "import networkx as nx\n",
    "import matplotlib.pyplot as plt\n",
    "\n",
    "from qiskit.quantum_info import SparsePauliOp\n",
    "from qiskit.synthesis import SuzukiTrotter\n",
    "from qiskit.quantum_info import Statevector\n",
    "from qiskit.circuit import QuantumCircuit\n",
    "from qiskit.circuit.library import PauliEvolutionGate\n",
    "from qiskit import transpile\n",
    "from qiskit.converters import circuit_to_dag\n",
    "\n",
    "from graph_cutter import *\n",
    "\n",
    "def get_hamiltonian(L, J, h, alpha=0):\n",
    "\n",
    "    # List of Hamiltonian terms as 3-tuples containing\n",
    "    # (1) the Pauli string,\n",
    "    # (2) the qubit indices corresponding to the Pauli string,\n",
    "    # (3) the coefficient.\n",
    "    ZZ_tuples = [(\"ZZ\", [i, i + 1], -J) for i in range(0, L - 1)]\n",
    "    Z_tuples = [(\"Z\", [i], -h * np.sin(alpha)) for i in range(0, L)]\n",
    "    X_tuples = [(\"X\", [i], -h * np.cos(alpha)) for i in range(0, L)]\n",
    "\n",
    "    # We create the Hamiltonian as a SparsePauliOp, via the method\n",
    "    # `from_sparse_list`, and multiply by the interaction term.\n",
    "    hamiltonian = SparsePauliOp.from_sparse_list([*ZZ_tuples, *Z_tuples, *X_tuples], num_qubits=L)\n",
    "    return hamiltonian.simplify()\n",
    "\n",
    "second_order_formula = SuzukiTrotter()\n",
    "\n",
    "L = 3\n",
    "H = get_hamiltonian(L=L, J=0.2, h=1.0, alpha=np.pi / 8)\n",
    "final_time = np.pi\n",
    "num_timesteps = 10\n",
    "dt = final_time / num_timesteps\n",
    "initial_state = Statevector.from_label(\"000\")\n",
    "\n",
    "trotter_step_second_order = PauliEvolutionGate(H, dt, synthesis=second_order_formula)\n",
    "circuit = QuantumCircuit(H.num_qubits)\n",
    "for i in range(1):\n",
    "    circuit.append(trotter_step_second_order, range(H.num_qubits))\n",
    "# circuit = circuit.decompose(reps=1)\n",
    "target_basis = ['rx', 'ry', 'rz', 'h', 'cx']\n",
    "circuit = transpile(circuit,\n",
    "                       basis_gates=target_basis, \n",
    "                       optimization_level=1) \n",
    "\n",
    "# Let us print some stats\n",
    "# print(\n",
    "#     f\"\"\"\n",
    "# Trotter step with Suzuki Trotter (2nd order)\n",
    "# --------------------------------------------\n",
    "\n",
    "#                   Depth: {circuit.depth()}\n",
    "#              Gate count: {len(circuit)}\n",
    "#     Nonlocal gate count: {circuit.num_nonlocal_gates()}\n",
    "#          Gate breakdown: {\", \".join([f\"{k.upper()}: {v}\" for k, v in circuit.count_ops().items()])}\n",
    "\n",
    "# \"\"\"\n",
    "# )\n",
    "# print(H)\n",
    "\n",
    "# circuit.draw(\"mpl\", scale=0.5)"
   ]
  },
  {
   "cell_type": "code",
   "execution_count": 2,
   "metadata": {},
   "outputs": [],
   "source": [
    "subcircuits, g, w = find_cuts(circuit, max_cut=8, plot=False)"
   ]
  },
  {
   "cell_type": "code",
   "execution_count": 3,
   "metadata": {},
   "outputs": [
    {
     "data": {
      "text/html": [
       "<pre style=\"word-wrap: normal;white-space: pre;background: #fff0;line-height: 1.1;font-family: &quot;Courier New&quot;,Courier,monospace\">     ┌─────┐┌─────────┐                  \n",
       "q_0: ┤ rz5 ├┤0        ├──────────────────\n",
       "     └─────┘│  cnot18 │┌──────┐┌────────┐\n",
       "q_1: ───────┤1        ├┤ rz19 ├┤ cx_t20 ├\n",
       "            └─────────┘└──────┘└────────┘</pre>"
      ],
      "text/plain": [
       "     ┌─────┐┌─────────┐                  \n",
       "q_0: ┤ rz5 ├┤0        ├──────────────────\n",
       "     └─────┘│  cnot18 │┌──────┐┌────────┐\n",
       "q_1: ───────┤1        ├┤ rz19 ├┤ cx_t20 ├\n",
       "            └─────────┘└──────┘└────────┘"
      ]
     },
     "execution_count": 3,
     "metadata": {},
     "output_type": "execute_result"
    }
   ],
   "source": [
    "subcircuits[3].draw()"
   ]
  }
 ],
 "metadata": {
  "kernelspec": {
   "display_name": "Python 3",
   "language": "python",
   "name": "python3"
  },
  "language_info": {
   "codemirror_mode": {
    "name": "ipython",
    "version": 3
   },
   "file_extension": ".py",
   "mimetype": "text/x-python",
   "name": "python",
   "nbconvert_exporter": "python",
   "pygments_lexer": "ipython3",
   "version": "3.12.4"
  }
 },
 "nbformat": 4,
 "nbformat_minor": 2
}
