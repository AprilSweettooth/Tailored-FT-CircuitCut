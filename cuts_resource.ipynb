{
 "cells": [
  {
   "cell_type": "code",
   "execution_count": 1,
   "metadata": {},
   "outputs": [],
   "source": [
    "import numpy as np\n",
    "import networkx as nx\n",
    "import matplotlib.pyplot as plt\n",
    "\n",
    "from qiskit.synthesis import SuzukiTrotter\n",
    "from qiskit.quantum_info import Statevector\n",
    "from qiskit.circuit import QuantumCircuit\n",
    "from qiskit.circuit.library import PauliEvolutionGate\n",
    "from qiskit import transpile\n",
    "\n",
    "from graph_cutter import *\n",
    "from utils import *\n",
    "\n",
    "from azure.quantum import Workspace\n",
    "from azure.quantum.target.microsoft import MicrosoftEstimator\n",
    "\n",
    "workspace = Workspace (\n",
    "   resource_id = \"/subscriptions/e0d51919-2dda-4b7e-a8e7-77cc18580acb/resourceGroups/AzureQuantum/providers/Microsoft.Quantum/Workspaces/QECBenchmarking\",\n",
    "   location = \"uksouth\"\n",
    ")\n",
    "\n",
    "estimator = MicrosoftEstimator(workspace)\n",
    "\n",
    "params = estimator.make_params(num_items=1)\n",
    "\n",
    "second_order_formula = SuzukiTrotter()\n",
    "L = 3\n",
    "H = get_hamiltonian(L=L, J=0.2, h=1.0, alpha=np.pi / 8)\n",
    "final_time = np.pi\n",
    "num_timesteps = 10\n",
    "dt = final_time / num_timesteps\n",
    "initial_state = Statevector.from_label(\"000\")\n",
    "\n",
    "trotter_step_second_order = PauliEvolutionGate(H, dt, synthesis=second_order_formula)\n",
    "circuit = QuantumCircuit(H.num_qubits)\n",
    "for i in range(1):\n",
    "    circuit.append(trotter_step_second_order, range(H.num_qubits))\n",
    "target_basis = ['rx', 'ry', 'rz', 'h', 'cx']\n",
    "circuit = transpile(circuit,\n",
    "                       basis_gates=target_basis, \n",
    "                       optimization_level=1) \n",
    "# plot_trotter_info(circuit)\n",
    "# circuit.draw('mpl', fold=-1)"
   ]
  },
  {
   "cell_type": "code",
   "execution_count": 2,
   "metadata": {},
   "outputs": [
    {
     "name": "stdout",
     "output_type": "stream",
     "text": [
      ".....6824 5680.400000000001\n"
     ]
    }
   ],
   "source": [
    "# Error budget\n",
    "params.error_budget = 0.01\n",
    "params.constraints.max_t_factories = 1\n",
    "job = estimator.submit(circuit, input_params=params)\n",
    "r = job.get_results()\n",
    "Q = r['physicalCounts']['physicalQubits']\n",
    "T = r['physicalCounts']['runtime']*1e-3\n",
    "print('\\n', 'total physical qubits required: ', Q, '\\n', 'total runtime', T)"
   ]
  },
  {
   "cell_type": "code",
   "execution_count": 4,
   "metadata": {},
   "outputs": [
    {
     "name": "stdout",
     "output_type": "stream",
     "text": [
      "Sampling Overhead:  84934656\n",
      "......................\n",
      " total physical qubits required:  8020 \n",
      " total runtime 4786.0\n",
      "Sampling Overhead:  150994944\n",
      ".......................\n",
      " total physical qubits required:  8020 \n",
      " total runtime 4682.400000000001\n",
      "Sampling Overhead:  150994944\n",
      "............"
     ]
    },
    {
     "ename": "RuntimeError",
     "evalue": "Cannot retrieve results as job execution failed (InvalidInputError: Algorithm requires at least one T state or measurement to estimate resources)",
     "output_type": "error",
     "traceback": [
      "\u001b[0;31m---------------------------------------------------------------------------\u001b[0m",
      "\u001b[0;31mRuntimeError\u001b[0m                              Traceback (most recent call last)",
      "File \u001b[0;32m/usr/local/lib/python3.12/site-packages/azure/quantum/target/microsoft/job.py:28\u001b[0m, in \u001b[0;36mMicrosoftEstimatorJob.get_results\u001b[0;34m(self, timeout_secs)\u001b[0m\n\u001b[1;32m     27\u001b[0m \u001b[38;5;28;01mtry\u001b[39;00m:\n\u001b[0;32m---> 28\u001b[0m     results \u001b[38;5;241m=\u001b[39m \u001b[38;5;28;43msuper\u001b[39;49m\u001b[43m(\u001b[49m\u001b[43m)\u001b[49m\u001b[38;5;241;43m.\u001b[39;49m\u001b[43mget_results\u001b[49m\u001b[43m(\u001b[49m\u001b[43mtimeout_secs\u001b[49m\u001b[43m)\u001b[49m\n\u001b[1;32m     29\u001b[0m     \u001b[38;5;28;01mreturn\u001b[39;00m MicrosoftEstimatorResult(results)\n",
      "File \u001b[0;32m/usr/local/lib/python3.12/site-packages/azure/quantum/job/job.py:132\u001b[0m, in \u001b[0;36mJob.get_results\u001b[0;34m(self, timeout_secs)\u001b[0m\n\u001b[1;32m    130\u001b[0m             \u001b[38;5;28;01mraise\u001b[39;00m JobFailedWithResultsError(\u001b[38;5;124m\"\u001b[39m\u001b[38;5;124mAn error occurred during job execution.\u001b[39m\u001b[38;5;124m\"\u001b[39m, job_failure_data)\n\u001b[0;32m--> 132\u001b[0m     \u001b[38;5;28;01mraise\u001b[39;00m \u001b[38;5;167;01mRuntimeError\u001b[39;00m(\n\u001b[1;32m    133\u001b[0m         \u001b[38;5;124mf\u001b[39m\u001b[38;5;124m'\u001b[39m\u001b[38;5;132;01m{\u001b[39;00m\u001b[38;5;124m\"\u001b[39m\u001b[38;5;124mCannot retrieve results as job execution failed\u001b[39m\u001b[38;5;124m\"\u001b[39m\u001b[38;5;132;01m}\u001b[39;00m\u001b[38;5;124m'\u001b[39m\n\u001b[1;32m    134\u001b[0m         \u001b[38;5;241m+\u001b[39m \u001b[38;5;124mf\u001b[39m\u001b[38;5;124m\"\u001b[39m\u001b[38;5;124m(status: \u001b[39m\u001b[38;5;132;01m{\u001b[39;00m\u001b[38;5;28mself\u001b[39m\u001b[38;5;241m.\u001b[39mdetails\u001b[38;5;241m.\u001b[39mstatus\u001b[38;5;132;01m}\u001b[39;00m\u001b[38;5;124m.\u001b[39m\u001b[38;5;124m\"\u001b[39m\n\u001b[1;32m    135\u001b[0m         \u001b[38;5;241m+\u001b[39m \u001b[38;5;124mf\u001b[39m\u001b[38;5;124m\"\u001b[39m\u001b[38;5;124merror: \u001b[39m\u001b[38;5;132;01m{\u001b[39;00m\u001b[38;5;28mself\u001b[39m\u001b[38;5;241m.\u001b[39mdetails\u001b[38;5;241m.\u001b[39merror_data\u001b[38;5;132;01m}\u001b[39;00m\u001b[38;5;124m)\u001b[39m\u001b[38;5;124m\"\u001b[39m\n\u001b[1;32m    136\u001b[0m     )\n\u001b[1;32m    138\u001b[0m payload \u001b[38;5;241m=\u001b[39m \u001b[38;5;28mself\u001b[39m\u001b[38;5;241m.\u001b[39mdownload_data(\u001b[38;5;28mself\u001b[39m\u001b[38;5;241m.\u001b[39mdetails\u001b[38;5;241m.\u001b[39moutput_data_uri)\n",
      "\u001b[0;31mRuntimeError\u001b[0m: Cannot retrieve results as job execution failed(status: Failed.error: {'additional_properties': {}, 'code': 'InvalidInputError', 'message': 'Algorithm requires at least one T state or measurement to estimate resources'})",
      "\nDuring handling of the above exception, another exception occurred:\n",
      "\u001b[0;31mRuntimeError\u001b[0m                              Traceback (most recent call last)",
      "Cell \u001b[0;32mIn[4], line 10\u001b[0m\n\u001b[1;32m      8\u001b[0m     \u001b[38;5;28;01mcontinue\u001b[39;00m\n\u001b[1;32m      9\u001b[0m job \u001b[38;5;241m=\u001b[39m estimator\u001b[38;5;241m.\u001b[39msubmit(s, input_params\u001b[38;5;241m=\u001b[39mparams)\n\u001b[0;32m---> 10\u001b[0m r \u001b[38;5;241m=\u001b[39m \u001b[43mjob\u001b[49m\u001b[38;5;241;43m.\u001b[39;49m\u001b[43mget_results\u001b[49m\u001b[43m(\u001b[49m\u001b[43m)\u001b[49m\n\u001b[1;32m     11\u001b[0m q \u001b[38;5;241m=\u001b[39m \u001b[38;5;28mmax\u001b[39m(r[\u001b[38;5;124m'\u001b[39m\u001b[38;5;124mphysicalCounts\u001b[39m\u001b[38;5;124m'\u001b[39m][\u001b[38;5;124m'\u001b[39m\u001b[38;5;124mphysicalQubits\u001b[39m\u001b[38;5;124m'\u001b[39m], q)\n\u001b[1;32m     12\u001b[0m t \u001b[38;5;241m+\u001b[39m\u001b[38;5;241m=\u001b[39m r[\u001b[38;5;124m'\u001b[39m\u001b[38;5;124mphysicalCounts\u001b[39m\u001b[38;5;124m'\u001b[39m][\u001b[38;5;124m'\u001b[39m\u001b[38;5;124mruntime\u001b[39m\u001b[38;5;124m'\u001b[39m]\u001b[38;5;241m*\u001b[39m\u001b[38;5;241m1e-3\u001b[39m\n",
      "File \u001b[0;32m/usr/local/lib/python3.12/site-packages/azure/quantum/target/microsoft/job.py:34\u001b[0m, in \u001b[0;36mMicrosoftEstimatorJob.get_results\u001b[0;34m(self, timeout_secs)\u001b[0m\n\u001b[1;32m     31\u001b[0m error_obj \u001b[38;5;241m=\u001b[39m \u001b[38;5;28mself\u001b[39m\u001b[38;5;241m.\u001b[39mdetails\u001b[38;5;241m.\u001b[39merror_data\n\u001b[1;32m     32\u001b[0m message \u001b[38;5;241m=\u001b[39m \u001b[38;5;124m\"\u001b[39m\u001b[38;5;124mCannot retrieve results as job execution failed \u001b[39m\u001b[38;5;124m\"\u001b[39m \\\n\u001b[1;32m     33\u001b[0m           \u001b[38;5;124mf\u001b[39m\u001b[38;5;124m\"\u001b[39m\u001b[38;5;124m(\u001b[39m\u001b[38;5;132;01m{\u001b[39;00merror_obj\u001b[38;5;241m.\u001b[39mcode\u001b[38;5;132;01m}\u001b[39;00m\u001b[38;5;124m: \u001b[39m\u001b[38;5;132;01m{\u001b[39;00merror_obj\u001b[38;5;241m.\u001b[39mmessage\u001b[38;5;132;01m}\u001b[39;00m\u001b[38;5;124m)\u001b[39m\u001b[38;5;124m\"\u001b[39m\n\u001b[0;32m---> 34\u001b[0m \u001b[38;5;28;01mraise\u001b[39;00m \u001b[38;5;167;01mRuntimeError\u001b[39;00m(message)\n",
      "\u001b[0;31mRuntimeError\u001b[0m: Cannot retrieve results as job execution failed (InvalidInputError: Algorithm requires at least one T state or measurement to estimate resources)"
     ]
    }
   ],
   "source": [
    "for _ in range(5):\n",
    "    subcircuits, g, w = find_cuts(circuit, max_cut=8, plot=False)\n",
    "    q = 0\n",
    "    t = 0\n",
    "    print('Sampling Overhead: ', 16**w*9**g)\n",
    "    for s in subcircuits:\n",
    "        if len(s.data) == 0:\n",
    "            continue\n",
    "        job = estimator.submit(s, input_params=params)\n",
    "        r = job.get_results()\n",
    "        q = max(r['physicalCounts']['physicalQubits'], q)\n",
    "        t += r['physicalCounts']['runtime']*1e-3\n",
    "    print('\\n', 'total physical qubits required: ', q, '\\n', 'total runtime', t)\n"
   ]
  }
 ],
 "metadata": {
  "kernelspec": {
   "display_name": "Python 3",
   "language": "python",
   "name": "python3"
  },
  "language_info": {
   "codemirror_mode": {
    "name": "ipython",
    "version": 3
   },
   "file_extension": ".py",
   "mimetype": "text/x-python",
   "name": "python",
   "nbconvert_exporter": "python",
   "pygments_lexer": "ipython3",
   "version": "3.12.4"
  }
 },
 "nbformat": 4,
 "nbformat_minor": 2
}
