{
 "cells": [
  {
   "cell_type": "code",
   "execution_count": 1,
   "metadata": {},
   "outputs": [],
   "source": [
    "from benchmark_2D_Ising import *"
   ]
  },
  {
   "cell_type": "code",
   "execution_count": 2,
   "metadata": {},
   "outputs": [],
   "source": [
    "# wire_cut_only_data = run(ratio_list=[0.5], lattice_size=range(4,5), only_wire=True, record=False)"
   ]
  },
  {
   "cell_type": "code",
   "execution_count": 3,
   "metadata": {},
   "outputs": [
    {
     "name": "stdout",
     "output_type": "stream",
     "text": [
      "number of time steps:  4\n",
      "max no. of qubit per subcircuit:  4\n",
      "Found 3x3 Ising model solution using 720 cuts (720 gate 0 wire cuts)\n",
      "...\n",
      " total physical qubits required:  22280 \n",
      " total runtime 0.7112820000000001\n",
      "\n",
      " logical depth 118547 algo depth 6844 physical qubits 450\n",
      ".....\n",
      " subcircuit- 1 : physical qubits-- 11708 runtime (in microsec)-- 16816.8\n",
      "\n",
      " logical depth 3234 algo depth 315 physical qubits 338\n",
      "...\n",
      " subcircuit- 2 : physical qubits-- 20270 runtime (in microsec)-- 350442.0\n",
      "\n",
      " logical depth 58407 algo depth 2580 physical qubits 450\n",
      "....\n",
      " subcircuit- 3 : physical qubits-- 26670 runtime (in microsec)-- 641784.0\n",
      "\n",
      " logical depth 94380 algo depth 3901 physical qubits 578\n",
      "\n",
      " quantum runtime total:  1.0090428 number of physical qubits:  26670\n",
      "number of time steps:  9\n",
      "max no. of qubit per subcircuit:  8\n",
      "Found 4x4 Ising model solution using 1620 cuts (1620 gate 0 wire cuts)\n",
      "....\n",
      " total physical qubits required:  39530 \n",
      " total runtime 3.6190348\n",
      "\n",
      " logical depth 532211 algo depth 23522 physical qubits 578\n",
      "....\n",
      " subcircuit- 1 : physical qubits-- 32450 runtime (in microsec)-- 1983152.0\n",
      "\n",
      " logical depth 291640 algo depth 12760 physical qubits 578\n",
      "....\n",
      " subcircuit- 2 : physical qubits-- 45950 runtime (in microsec)-- 3377782.0\n",
      "\n",
      " logical depth 444445 algo depth 15866 physical qubits 722\n",
      "\n",
      " quantum runtime total:  5.360934 number of physical qubits:  45950\n",
      "number of time steps:  15\n",
      "max no. of qubit per subcircuit:  12\n",
      "Found 5x5 Ising model solution using 4350 cuts (4350 gate 0 wire cuts)\n",
      ".......\n",
      " total physical qubits required:  65652 \n",
      " total runtime 12.7946152\n",
      "\n",
      " logical depth 1683502 algo depth 54717 physical qubits 722\n",
      ".....\n",
      " subcircuit- 1 : physical qubits-- 11708 runtime (in microsec)-- 65208.0\n",
      "\n",
      " logical depth 12540 algo depth 1216 physical qubits 338\n",
      "....\n",
      " subcircuit- 2 : physical qubits-- 43270 runtime (in microsec)-- 5981473.600000001\n",
      "\n",
      " logical depth 787036 algo depth 29280 physical qubits 722\n",
      "....\n",
      " subcircuit- 3 : physical qubits-- 43270 runtime (in microsec)-- 8465472.8\n",
      "\n",
      " logical depth 1113878 algo depth 34830 physical qubits 722\n",
      "\n",
      " quantum runtime total:  14.512154400000002 number of physical qubits:  43270\n",
      "number of time steps:  23\n",
      "max no. of qubit per subcircuit:  18\n",
      "Found 6x6 Ising model solution using 6440 cuts (6440 gate 0 wire cuts)\n"
     ]
    },
    {
     "ename": "KeyboardInterrupt",
     "evalue": "",
     "output_type": "error",
     "traceback": [
      "\u001b[0;31m---------------------------------------------------------------------------\u001b[0m",
      "\u001b[0;31mKeyboardInterrupt\u001b[0m                         Traceback (most recent call last)",
      "Cell \u001b[0;32mIn[3], line 1\u001b[0m\n\u001b[0;32m----> 1\u001b[0m data \u001b[38;5;241m=\u001b[39m \u001b[43mrun_T_factory\u001b[49m\u001b[43m(\u001b[49m\u001b[43mT_list\u001b[49m\u001b[38;5;241;43m=\u001b[39;49m\u001b[43m[\u001b[49m\u001b[38;5;241;43m1\u001b[39;49m\u001b[43m,\u001b[49m\u001b[38;5;241;43m2\u001b[39;49m\u001b[43m,\u001b[49m\u001b[38;5;241;43m3\u001b[39;49m\u001b[43m,\u001b[49m\u001b[38;5;241;43m4\u001b[39;49m\u001b[43m,\u001b[49m\u001b[38;5;241;43m5\u001b[39;49m\u001b[43m]\u001b[49m\u001b[43m,\u001b[49m\u001b[43m \u001b[49m\u001b[43mlattice_size\u001b[49m\u001b[38;5;241;43m=\u001b[39;49m\u001b[38;5;28;43mrange\u001b[39;49m\u001b[43m(\u001b[49m\u001b[38;5;241;43m3\u001b[39;49m\u001b[43m,\u001b[49m\u001b[38;5;241;43m7\u001b[39;49m\u001b[43m)\u001b[49m\u001b[43m,\u001b[49m\u001b[43m \u001b[49m\u001b[43monly_wire\u001b[49m\u001b[38;5;241;43m=\u001b[39;49m\u001b[38;5;28;43;01mFalse\u001b[39;49;00m\u001b[43m,\u001b[49m\u001b[43m \u001b[49m\u001b[43mrecord\u001b[49m\u001b[38;5;241;43m=\u001b[39;49m\u001b[38;5;28;43;01mTrue\u001b[39;49;00m\u001b[43m,\u001b[49m\u001b[43m \u001b[49m\u001b[43mfile_name\u001b[49m\u001b[38;5;241;43m=\u001b[39;49m\u001b[38;5;124;43m'\u001b[39;49m\u001b[38;5;124;43m2D_Ising_data_max_T_facotries.json\u001b[39;49m\u001b[38;5;124;43m'\u001b[39;49m\u001b[43m)\u001b[49m\n",
      "File \u001b[0;32m~/Downloads/Tailored-FT-CircuitCut-dev/benchmark_2D_Ising.py:106\u001b[0m, in \u001b[0;36mrun_T_factory\u001b[0;34m(T_list, lattice_size, only_wire, record, file_name, method)\u001b[0m\n\u001b[1;32m    104\u001b[0m data[\u001b[38;5;124m'\u001b[39m\u001b[38;5;124mIsing\u001b[39m\u001b[38;5;124m'\u001b[39m\u001b[38;5;241m+\u001b[39m\u001b[38;5;28mstr\u001b[39m(size)\u001b[38;5;241m+\u001b[39m\u001b[38;5;124m'\u001b[39m\u001b[38;5;124m by \u001b[39m\u001b[38;5;124m'\u001b[39m\u001b[38;5;241m+\u001b[39m\u001b[38;5;28mstr\u001b[39m(size)][\u001b[38;5;124m'\u001b[39m\u001b[38;5;124mgate_cuts\u001b[39m\u001b[38;5;124m'\u001b[39m] \u001b[38;5;241m=\u001b[39m \u001b[38;5;28mlen\u001b[39m(metadata[\u001b[38;5;124m\"\u001b[39m\u001b[38;5;124mgate_cuts\u001b[39m\u001b[38;5;124m\"\u001b[39m])\n\u001b[1;32m    105\u001b[0m data[\u001b[38;5;124m'\u001b[39m\u001b[38;5;124mIsing\u001b[39m\u001b[38;5;124m'\u001b[39m\u001b[38;5;241m+\u001b[39m\u001b[38;5;28mstr\u001b[39m(size)\u001b[38;5;241m+\u001b[39m\u001b[38;5;124m'\u001b[39m\u001b[38;5;124m by \u001b[39m\u001b[38;5;124m'\u001b[39m\u001b[38;5;241m+\u001b[39m\u001b[38;5;28mstr\u001b[39m(size)][\u001b[38;5;124m'\u001b[39m\u001b[38;5;124mwire_cuts\u001b[39m\u001b[38;5;124m'\u001b[39m] \u001b[38;5;241m=\u001b[39m \u001b[38;5;28mlen\u001b[39m(metadata[\u001b[38;5;124m\"\u001b[39m\u001b[38;5;124mwire_cuts\u001b[39m\u001b[38;5;124m\"\u001b[39m])  \n\u001b[0;32m--> 106\u001b[0m qc_w_ancilla \u001b[38;5;241m=\u001b[39m \u001b[43mcut_wires\u001b[49m\u001b[43m(\u001b[49m\u001b[43mcut_circuit\u001b[49m\u001b[43m)\u001b[49m\n\u001b[1;32m    107\u001b[0m partitioned_problem \u001b[38;5;241m=\u001b[39m partition_problem(circuit\u001b[38;5;241m=\u001b[39mqc_w_ancilla)\n\u001b[1;32m    108\u001b[0m subcircuit\u001b[38;5;241m=\u001b[39m partitioned_problem\u001b[38;5;241m.\u001b[39msubcircuits\n",
      "File \u001b[0;32m~/Downloads/Tailored-FT-CircuitCut-dev/qiskit_addon_cutting_custom/wire_cutting_transforms.py:44\u001b[0m, in \u001b[0;36mcut_wires\u001b[0;34m(circuit)\u001b[0m\n\u001b[1;32m     28\u001b[0m \u001b[38;5;28;01mdef\u001b[39;00m \u001b[38;5;21mcut_wires\u001b[39m(circuit: QuantumCircuit, \u001b[38;5;241m/\u001b[39m) \u001b[38;5;241m-\u001b[39m\u001b[38;5;241m>\u001b[39m QuantumCircuit:\n\u001b[1;32m     29\u001b[0m \u001b[38;5;250m    \u001b[39m\u001b[38;5;124mr\u001b[39m\u001b[38;5;124;03m\"\"\"Transform all :class:`.CutWire` instructions in a circuit to :class:`.Move` instructions marked for cutting.\u001b[39;00m\n\u001b[1;32m     30\u001b[0m \n\u001b[1;32m     31\u001b[0m \u001b[38;5;124;03m    The returned circuit will have one newly allocated qubit for every :class:`.CutWire` instruction.\u001b[39;00m\n\u001b[0;32m   (...)\u001b[0m\n\u001b[1;32m     42\u001b[0m \u001b[38;5;124;03m        circuit: New circuit with :class:`.CutWire` instructions replaced by :class:`.Move` instructions wrapped in :class:`TwoQubitQPDGate`\\ s\u001b[39;00m\n\u001b[1;32m     43\u001b[0m \u001b[38;5;124;03m    \"\"\"\u001b[39;00m\n\u001b[0;32m---> 44\u001b[0m     \u001b[38;5;28;01mreturn\u001b[39;00m \u001b[43m_transform_cut_wires\u001b[49m\u001b[43m(\u001b[49m\n\u001b[1;32m     45\u001b[0m \u001b[43m        \u001b[49m\u001b[43mcircuit\u001b[49m\u001b[43m,\u001b[49m\u001b[43m \u001b[49m\u001b[38;5;28;43;01mlambda\u001b[39;49;00m\u001b[43m:\u001b[49m\u001b[43m \u001b[49m\u001b[43mTwoQubitQPDGate\u001b[49m\u001b[38;5;241;43m.\u001b[39;49m\u001b[43mfrom_instruction\u001b[49m\u001b[43m(\u001b[49m\u001b[43mMove\u001b[49m\u001b[43m(\u001b[49m\u001b[43m)\u001b[49m\u001b[43m)\u001b[49m\n\u001b[1;32m     46\u001b[0m \u001b[43m    \u001b[49m\u001b[43m)\u001b[49m\n",
      "File \u001b[0;32m~/Downloads/Tailored-FT-CircuitCut-dev/qiskit_addon_cutting_custom/wire_cutting_transforms.py:69\u001b[0m, in \u001b[0;36m_transform_cut_wires\u001b[0;34m(circuit, factory)\u001b[0m\n\u001b[1;32m     66\u001b[0m \u001b[38;5;28;01mfor\u001b[39;00m instructions \u001b[38;5;129;01min\u001b[39;00m circuit\u001b[38;5;241m.\u001b[39mdata:\n\u001b[1;32m     67\u001b[0m     gate_index \u001b[38;5;241m=\u001b[39m [circuit\u001b[38;5;241m.\u001b[39mfind_bit(qubit)\u001b[38;5;241m.\u001b[39mindex \u001b[38;5;28;01mfor\u001b[39;00m qubit \u001b[38;5;129;01min\u001b[39;00m instructions\u001b[38;5;241m.\u001b[39mqubits]\n\u001b[0;32m---> 69\u001b[0m     \u001b[38;5;28;01mif\u001b[39;00m instructions \u001b[38;5;129;01min\u001b[39;00m \u001b[43mcircuit\u001b[49m\u001b[38;5;241;43m.\u001b[39;49m\u001b[43mget_instructions\u001b[49m\u001b[43m(\u001b[49m\u001b[38;5;124;43m\"\u001b[39;49m\u001b[38;5;124;43mcut_wire\u001b[39;49m\u001b[38;5;124;43m\"\u001b[39;49m\u001b[43m)\u001b[49m:\n\u001b[1;32m     70\u001b[0m         \u001b[38;5;66;03m# Replace cut_wire with move instruction\u001b[39;00m\n\u001b[1;32m     71\u001b[0m         new_circuit\u001b[38;5;241m.\u001b[39mcompose(\n\u001b[1;32m     72\u001b[0m             other\u001b[38;5;241m=\u001b[39mfactory(),\n\u001b[1;32m     73\u001b[0m             qubits\u001b[38;5;241m=\u001b[39m[mapping[gate_index[\u001b[38;5;241m0\u001b[39m]], mapping[gate_index[\u001b[38;5;241m0\u001b[39m]] \u001b[38;5;241m+\u001b[39m \u001b[38;5;241m1\u001b[39m],\n\u001b[1;32m     74\u001b[0m             inplace\u001b[38;5;241m=\u001b[39m\u001b[38;5;28;01mTrue\u001b[39;00m,\n\u001b[1;32m     75\u001b[0m         )\n\u001b[1;32m     76\u001b[0m         mapping[gate_index[\u001b[38;5;241m0\u001b[39m]] \u001b[38;5;241m+\u001b[39m\u001b[38;5;241m=\u001b[39m \u001b[38;5;241m1\u001b[39m\n",
      "File \u001b[0;32m/usr/local/lib/python3.12/site-packages/qiskit/circuit/quantumcircuit.py:3449\u001b[0m, in \u001b[0;36mQuantumCircuit.get_instructions\u001b[0;34m(self, name)\u001b[0m\n\u001b[1;32m   3440\u001b[0m \u001b[38;5;28;01mdef\u001b[39;00m \u001b[38;5;21mget_instructions\u001b[39m(\u001b[38;5;28mself\u001b[39m, name: \u001b[38;5;28mstr\u001b[39m) \u001b[38;5;241m-\u001b[39m\u001b[38;5;241m>\u001b[39m \u001b[38;5;28mlist\u001b[39m[CircuitInstruction]:\n\u001b[1;32m   3441\u001b[0m \u001b[38;5;250m    \u001b[39m\u001b[38;5;124;03m\"\"\"Get instructions matching name.\u001b[39;00m\n\u001b[1;32m   3442\u001b[0m \n\u001b[1;32m   3443\u001b[0m \u001b[38;5;124;03m    Args:\u001b[39;00m\n\u001b[0;32m   (...)\u001b[0m\n\u001b[1;32m   3447\u001b[0m \u001b[38;5;124;03m        list(tuple): list of (instruction, qargs, cargs).\u001b[39;00m\n\u001b[1;32m   3448\u001b[0m \u001b[38;5;124;03m    \"\"\"\u001b[39;00m\n\u001b[0;32m-> 3449\u001b[0m     \u001b[38;5;28;01mreturn\u001b[39;00m [match \u001b[38;5;28;01mfor\u001b[39;00m match \u001b[38;5;129;01min\u001b[39;00m \u001b[38;5;28mself\u001b[39m\u001b[38;5;241m.\u001b[39m_data \u001b[38;5;28;01mif\u001b[39;00m \u001b[43mmatch\u001b[49m\u001b[38;5;241;43m.\u001b[39;49m\u001b[43moperation\u001b[49m\u001b[38;5;241;43m.\u001b[39;49m\u001b[43mname\u001b[49m \u001b[38;5;241m==\u001b[39m name]\n",
      "File \u001b[0;32m/usr/local/lib/python3.12/site-packages/qiskit/circuit/instruction.py:620\u001b[0m, in \u001b[0;36mInstruction.name\u001b[0;34m(self)\u001b[0m\n\u001b[1;32m    617\u001b[0m         \u001b[38;5;28;01mreturn\u001b[39;00m []\n\u001b[1;32m    618\u001b[0m     \u001b[38;5;28;01mreturn\u001b[39;00m \u001b[38;5;28mlist\u001b[39m(condition_resources(\u001b[38;5;28mself\u001b[39m\u001b[38;5;241m.\u001b[39mcondition)\u001b[38;5;241m.\u001b[39mclbits)\n\u001b[0;32m--> 620\u001b[0m \u001b[38;5;129m@property\u001b[39m\n\u001b[1;32m    621\u001b[0m \u001b[38;5;28;01mdef\u001b[39;00m \u001b[38;5;21mname\u001b[39m(\u001b[38;5;28mself\u001b[39m):\n\u001b[1;32m    622\u001b[0m \u001b[38;5;250m    \u001b[39m\u001b[38;5;124;03m\"\"\"Return the name.\"\"\"\u001b[39;00m\n\u001b[1;32m    623\u001b[0m     \u001b[38;5;28;01mreturn\u001b[39;00m \u001b[38;5;28mself\u001b[39m\u001b[38;5;241m.\u001b[39m_name\n",
      "\u001b[0;31mKeyboardInterrupt\u001b[0m: "
     ]
    }
   ],
   "source": [
    "data = run_T_factory(T_list=[1,2,3,4,5], lattice_size=range(3,11), only_wire=False, record=True, file_name='2D_Ising_data_max_T_facotries.json')"
   ]
  },
  {
   "cell_type": "code",
   "execution_count": 4,
   "metadata": {},
   "outputs": [],
   "source": [
    "# import json\n",
    "\n",
    "# with open('2D_Ising_data.json', 'w') as fp:\n",
    "#     json.dump(data, fp)\n",
    "\n",
    "# with open('data.json', 'r') as fp:\n",
    "#     data = json.load(fp)"
   ]
  }
 ],
 "metadata": {
  "kernelspec": {
   "display_name": "Python 3",
   "language": "python",
   "name": "python3"
  },
  "language_info": {
   "codemirror_mode": {
    "name": "ipython",
    "version": 3
   },
   "file_extension": ".py",
   "mimetype": "text/x-python",
   "name": "python",
   "nbconvert_exporter": "python",
   "pygments_lexer": "ipython3",
   "version": "3.12.5"
  }
 },
 "nbformat": 4,
 "nbformat_minor": 2
}
